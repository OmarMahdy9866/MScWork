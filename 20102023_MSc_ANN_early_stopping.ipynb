{
 "cells": [
  {
   "cell_type": "code",
   "execution_count": 153,
   "id": "initial_id",
   "metadata": {
    "collapsed": true,
    "ExecuteTime": {
     "end_time": "2023-10-20T20:53:22.896548800Z",
     "start_time": "2023-10-20T20:53:22.788495800Z"
    }
   },
   "outputs": [
    {
     "data": {
      "text/plain": "'2.1.0+cpu'"
     },
     "execution_count": 153,
     "metadata": {},
     "output_type": "execute_result"
    }
   ],
   "source": [
    "# Importing PyTorch\n",
    "import torch\n",
    "torch.version.__version__"
   ]
  },
  {
   "cell_type": "markdown",
   "id": "dbb36ee516ca7af6",
   "metadata": {
    "collapsed": false
   },
   "source": [
    "# Loading training & testing dataset"
   ]
  },
  {
   "cell_type": "code",
   "execution_count": 154,
   "id": "d00bccb29d8a987e",
   "metadata": {
    "collapsed": false,
    "ExecuteTime": {
     "end_time": "2023-10-20T20:53:23.031579500Z",
     "start_time": "2023-10-20T20:53:22.800498400Z"
    }
   },
   "outputs": [
    {
     "data": {
      "text/plain": "   H   B   q  R_int  gamma  Su  sf_lower  sf_upper\n0  8   4  10    0.6     18  25     1.041     1.087\n1  8   4  10    0.8     18  25     1.044     1.087\n2  6  20  20    0.8     18  25     1.045     1.080\n3  6  20  20    0.6     18  25     1.047     1.080\n4  6  20  20    1.0     18  25     1.048     1.080",
      "text/html": "<div>\n<style scoped>\n    .dataframe tbody tr th:only-of-type {\n        vertical-align: middle;\n    }\n\n    .dataframe tbody tr th {\n        vertical-align: top;\n    }\n\n    .dataframe thead th {\n        text-align: right;\n    }\n</style>\n<table border=\"1\" class=\"dataframe\">\n  <thead>\n    <tr style=\"text-align: right;\">\n      <th></th>\n      <th>H</th>\n      <th>B</th>\n      <th>q</th>\n      <th>R_int</th>\n      <th>gamma</th>\n      <th>Su</th>\n      <th>sf_lower</th>\n      <th>sf_upper</th>\n    </tr>\n  </thead>\n  <tbody>\n    <tr>\n      <th>0</th>\n      <td>8</td>\n      <td>4</td>\n      <td>10</td>\n      <td>0.6</td>\n      <td>18</td>\n      <td>25</td>\n      <td>1.041</td>\n      <td>1.087</td>\n    </tr>\n    <tr>\n      <th>1</th>\n      <td>8</td>\n      <td>4</td>\n      <td>10</td>\n      <td>0.8</td>\n      <td>18</td>\n      <td>25</td>\n      <td>1.044</td>\n      <td>1.087</td>\n    </tr>\n    <tr>\n      <th>2</th>\n      <td>6</td>\n      <td>20</td>\n      <td>20</td>\n      <td>0.8</td>\n      <td>18</td>\n      <td>25</td>\n      <td>1.045</td>\n      <td>1.080</td>\n    </tr>\n    <tr>\n      <th>3</th>\n      <td>6</td>\n      <td>20</td>\n      <td>20</td>\n      <td>0.6</td>\n      <td>18</td>\n      <td>25</td>\n      <td>1.047</td>\n      <td>1.080</td>\n    </tr>\n    <tr>\n      <th>4</th>\n      <td>6</td>\n      <td>20</td>\n      <td>20</td>\n      <td>1.0</td>\n      <td>18</td>\n      <td>25</td>\n      <td>1.048</td>\n      <td>1.080</td>\n    </tr>\n  </tbody>\n</table>\n</div>"
     },
     "execution_count": 154,
     "metadata": {},
     "output_type": "execute_result"
    }
   ],
   "source": [
    "import pandas as pd  # Import the Pandas library for data manipulation.\n",
    "\n",
    "# Define the input file name as a variable for easy modification.\n",
    "input_file = 'output_results.csv'\n",
    "\n",
    "# Read the CSV data from the specified input file into a Pandas DataFrame.\n",
    "csv_data = pd.read_csv(input_file)\n",
    "\n",
    "# Display the first few rows of the DataFrame to inspect the data.\n",
    "csv_data.head()"
   ]
  },
  {
   "cell_type": "markdown",
   "id": "c2738b7bb2241051",
   "metadata": {
    "collapsed": false
   },
   "source": [
    "# Defining MyDataset class"
   ]
  },
  {
   "cell_type": "markdown",
   "id": "2dccbbfe0a5e1d45",
   "metadata": {
    "collapsed": false
   },
   "source": [
    "## 1. Class definition"
   ]
  },
  {
   "cell_type": "code",
   "execution_count": 155,
   "id": "7464ea69ecd596bf",
   "metadata": {
    "collapsed": false,
    "ExecuteTime": {
     "end_time": "2023-10-20T20:53:23.047582300Z",
     "start_time": "2023-10-20T20:53:22.809510200Z"
    }
   },
   "outputs": [],
   "source": [
    "from torch.utils.data import Dataset\n",
    "import numpy as np\n",
    "import math\n",
    "\n",
    "class MyDataset(Dataset):\n",
    "    \"\"\"\n",
    "    A custom PyTorch dataset for loading data from a CSV file and preparing it for training or testing.\n",
    "\n",
    "    Args:\n",
    "        file_name (str): The path to the CSV file containing the dataset.\n",
    "        train_test_ratio (float, optional): The ratio of the dataset to be used for training (default is 0.9).\n",
    "        test (bool, optional): If True, the dataset is prepared for testing; otherwise, it's prepared for training (default is False).\n",
    "\n",
    "    Attributes:\n",
    "        x_data (torch.Tensor): The input data.\n",
    "        y_data (torch.Tensor): The target data.\n",
    "\n",
    "    Methods:\n",
    "        __len__(): Returns the number of samples in the dataset.\n",
    "        __getitem__(idx): Returns the input and target data for a specific index.\n",
    "    \"\"\"\n",
    "\n",
    "    def __init__(self, file_name, train_test_ratio=0.9, test=False):\n",
    "        \"\"\"\n",
    "        Initializes the MyDataset with data from a CSV file.\n",
    "\n",
    "        Args:\n",
    "            file_name (str): The path to the CSV file containing the dataset.\n",
    "            train_test_ratio (float, optional): The ratio of the dataset to be used for training (default is 0.9).\n",
    "            test (bool, optional): If True, the dataset is prepared for testing; otherwise, it's prepared for training (default is False).\n",
    "        \"\"\"\n",
    "        _df = pd.read_csv(file_name)\n",
    "\n",
    "        if test:\n",
    "            data_len = math.floor((1 - train_test_ratio) * len(_df.iloc[:, 0]))\n",
    "        else:\n",
    "            data_len = math.floor(train_test_ratio * len(_df.iloc[:, 0]))\n",
    "\n",
    "        x = _df.iloc[:data_len, :-2].values\n",
    "        y = _df.iloc[:data_len, -2:].values\n",
    "\n",
    "        self.x_data = torch.tensor(x, dtype=torch.float32)\n",
    "        self.y_data = torch.tensor(y, dtype=torch.float32)\n",
    "\n",
    "    def __len__(self):\n",
    "        return np.shape(self.y_data)[0]\n",
    "\n",
    "    def __getitem__(self, idx):\n",
    "        return self.x_data[idx], self.y_data[idx]"
   ]
  },
  {
   "cell_type": "markdown",
   "id": "2c962857e018270b",
   "metadata": {
    "collapsed": false
   },
   "source": [
    "## 2. MyDataset class implementation"
   ]
  },
  {
   "cell_type": "code",
   "execution_count": 156,
   "metadata": {
    "ExecuteTime": {
     "end_time": "2023-10-20T20:53:23.064586Z",
     "start_time": "2023-10-20T20:53:22.817427700Z"
    }
   },
   "outputs": [],
   "source": [
    "from torch.utils.data.sampler import SubsetRandomSampler\n",
    "\n",
    "def create_datasets(batch_size):\n",
    "\n",
    "    # percentage of training set to use as validation\n",
    "    valid_size = 0.2\n",
    "\n",
    "    # choose the training and test datasets\n",
    "    # Create a training dataset from the input CSV file.\n",
    "    train_data = MyDataset(input_file)\n",
    "\n",
    "    # Create a testing dataset from the input CSV file.\n",
    "    test_data = MyDataset(input_file, test=True)\n",
    "\n",
    "    # obtain training indices that will be used for validation\n",
    "    num_train = len(train_data)\n",
    "    indices = list(range(num_train))\n",
    "    np.random.shuffle(indices)\n",
    "    split = int(np.floor(valid_size * num_train))\n",
    "    train_idx, valid_idx = indices[split:], indices[:split]\n",
    "    \n",
    "    # define samplers for obtaining training and validation batches\n",
    "    train_sampler = SubsetRandomSampler(train_idx)\n",
    "    valid_sampler = SubsetRandomSampler(valid_idx)\n",
    "    \n",
    "    # load training data in batches\n",
    "    train_loader = torch.utils.data.DataLoader(train_data,\n",
    "                                               batch_size=batch_size,\n",
    "                                               sampler=train_sampler,\n",
    "                                               num_workers=0)\n",
    "    \n",
    "    # load validation data in batches\n",
    "    valid_loader = torch.utils.data.DataLoader(train_data,\n",
    "                                               batch_size=batch_size,\n",
    "                                               sampler=valid_sampler,\n",
    "                                               num_workers=0)\n",
    "    \n",
    "    # load test data in batches\n",
    "    test_loader = torch.utils.data.DataLoader(test_data,\n",
    "                                              batch_size=batch_size,\n",
    "                                              num_workers=0)\n",
    "    \n",
    "    return train_loader, test_loader, valid_loader"
   ],
   "id": "cb174db5ea854d59"
  },
  {
   "cell_type": "markdown",
   "id": "26cf6d81c9cc0f55",
   "metadata": {
    "collapsed": false
   },
   "source": [
    "**Hyperparameters:**\n",
    "\n",
    "- Number of training epochs: `EPOCH = 10`\n",
    "- Batch size for mini-batch gradient descent: `BATCH_SIZE = 10`\n",
    "- Learning rate for the optimization algorithm (e.g., stochastic gradient descent): `LR = 0.001`\n"
   ]
  },
  {
   "cell_type": "code",
   "execution_count": 157,
   "id": "afac10a2dc4547b5",
   "metadata": {
    "collapsed": false,
    "ExecuteTime": {
     "end_time": "2023-10-20T20:53:23.067587100Z",
     "start_time": "2023-10-20T20:53:22.821429200Z"
    }
   },
   "outputs": [],
   "source": [
    "# Explanation:\n",
    "# - PyTorch uses random numbers in various operations, such as weight initialization, data shuffling, and more.\n",
    "# - By setting the random seed to a specific value (in this case, 1), we ensure that the same random numbers are generated every time we run the code.\n",
    "# - This is important for reproducibility, which means getting the same results each time you run the code.\n",
    "# - Reproducibility is crucial in machine learning and deep learning to validate and compare results.\n",
    "\n",
    "# Note: Setting the random seed to 1 is just an example. You can choose any integer value for reproducibility.\n",
    "torch.manual_seed(1)  # Reproducible\n",
    "\n",
    "# Number of training epochs\n",
    "EPOCH = 100\n",
    "\n",
    "# Batch size for mini-batch gradient descent\n",
    "BATCH_SIZE = 36\n",
    "\n",
    "# Learning rate for the optimization algorithm (e.g., stochastic gradient descent)\n",
    "LR = 0.001"
   ]
  },
  {
   "cell_type": "markdown",
   "id": "3d818ed21eab4807",
   "metadata": {
    "collapsed": false
   },
   "source": [
    "**Data Loaders and Batch Information:**\n",
    "\n",
    "- Import the necessary DataLoader module from PyTorch to handle dataset loading.\n",
    "\n",
    "- Create a data loader for the training dataset with the following parameters:\n",
    "  - Batch size: `BATCH_SIZE`\n",
    "  - No shuffle.\n",
    "\n",
    "- Create a data loader for the test dataset with the same parameters as the training data loader.\n",
    "\n",
    "- To obtain a single batch of training data and labels, use the `next` function on an iterator created from `train_loader`.\n",
    "\n",
    "- Display the shape of the feature batch:\n",
    "  - `train_features.size()` returns the shape (dimensions) of the feature batch.\n",
    "\n",
    "- Display the shape of the label batch:\n",
    "  - `train_labels.size()` returns the shape (dimensions) of the label batch.\n"
   ]
  },
  {
   "cell_type": "code",
   "execution_count": 158,
   "id": "7ff0d3a2eadf153b",
   "metadata": {
    "collapsed": false,
    "ExecuteTime": {
     "end_time": "2023-10-20T20:53:23.067587100Z",
     "start_time": "2023-10-20T20:53:22.825628800Z"
    }
   },
   "outputs": [],
   "source": [
    "# from torch.utils.data import DataLoader\n",
    "\n",
    "# # Create a data loader for the training dataset\n",
    "# train_loader = DataLoader(train_dataset, batch_size=BATCH_SIZE, shuffle=False)\n",
    "\n",
    "# # Create a data loader for the test dataset\n",
    "# test_loader = DataLoader(test_dataset, batch_size=BATCH_SIZE, shuffle=False)\n",
    "\n",
    "# # Obtain a single batch of training data and labels using the `train_loader`.\n",
    "# # This is done by using the `next` function on an iterator created from `train_loader`.\n",
    "# train_features, train_labels = next(iter(train_loader))\n",
    "\n",
    "# # Print the shape of the feature batch.\n",
    "# # `train_features.size()` returns the shape (dimensions) of the feature batch.\n",
    "# print(f\"Feature batch shape: {train_features.size()}\")\n",
    "\n",
    "# # Print the shape of the label batch.\n",
    "# # `train_labels.size()` returns the shape (dimensions) of the label batch.\n",
    "# print(f\"Labels batch shape: {train_labels.size()}\")"
   ]
  },
  {
   "cell_type": "markdown",
   "id": "62c824695773fbba",
   "metadata": {
    "collapsed": false
   },
   "source": [
    "### Multiple Linear Regression Neural Network\n",
    "\n",
    "Defines a PyTorch neural network module for multiple linear regression. The neural network consists of three fully connected layers, and the docstring provides a detailed explanation of its structure and usage."
   ]
  },
  {
   "cell_type": "code",
   "execution_count": 159,
   "id": "5df4548818a46476",
   "metadata": {
    "collapsed": false,
    "ExecuteTime": {
     "end_time": "2023-10-20T20:53:23.085591500Z",
     "start_time": "2023-10-20T20:53:22.830344800Z"
    }
   },
   "outputs": [],
   "source": [
    "import torch as T\n",
    "import torch.nn as nn\n",
    "\n",
    "class MultipleLinearRegression(nn.Module):\n",
    "    \"\"\"\n",
    "    A PyTorch module representing a multiple linear regression neural network.\n",
    "\n",
    "    This neural network consists of three fully connected layers: hid1, hid2, and oupt.\n",
    "    The hid1 layer takes the input features and passes them through 6 units with a sigmoid activation.\n",
    "    The hid2 layer processes the hid1 output through 6 units with a sigmoid activation.\n",
    "    The oupt layer provides the final output based on the hid2 activations with no activation applied.\n",
    "\n",
    "    Parameters:\n",
    "    - input (int): Number of input features. Default is 6.\n",
    "    - output (int): Number of output units. Default is 2.\n",
    "\n",
    "    Attributes:\n",
    "    - hid1 (nn.Linear): First hidden layer with 6 units and a sigmoid activation.\n",
    "    - hid2 (nn.Linear): Second hidden layer with 6 units and a sigmoid activation.\n",
    "    - oupt (nn.Linear): Output layer with 'output' units and no activation.\n",
    "\n",
    "    Methods:\n",
    "    - forward(x): Defines the forward pass of the neural network.\n",
    "      Args:\n",
    "        x (torch.Tensor): Input tensor.\n",
    "      Returns:\n",
    "        torch.Tensor: Output tensor.\n",
    "\n",
    "    Example usage:\n",
    "    ```\n",
    "    model = MultipleLinearRegression(input=6, output=2)\n",
    "    output = model(input_tensor)\n",
    "    ```\n",
    "    \"\"\"\n",
    "\n",
    "    def __init__(self, input=6, output=2):\n",
    "        super(MultipleLinearRegression, self).__init__()\n",
    "        # Define the layers of the neural network.\n",
    "        # Three fully connected layers are used: hid1, hid2, and oupt.\n",
    "        self.hid1 = nn.Linear(input, 32)  # Layer with 6 units, input features to 6 units.\n",
    "        self.hid2 = nn.Linear(32, 8)     # Layer with 6 units, 6 units to 6 units.\n",
    "        self.oupt = nn.Linear(8, output)  # Output layer, 6 units to 'output' units.\n",
    "\n",
    "        # Initialize the weights and biases of each layer.\n",
    "        nn.init.xavier_uniform_(self.hid1.weight)  # Xavier initialization of weights for hid1.\n",
    "        nn.init.zeros_(self.hid1.bias)            # Initialize biases of hid1 to zeros.\n",
    "        nn.init.xavier_uniform_(self.hid2.weight)  # Xavier initialization of weights for hid2.\n",
    "        nn.init.zeros_(self.hid2.bias)            # Initialize biases of hid2 to zeros.\n",
    "        nn.init.xavier_uniform_(self.oupt.weight)  # Xavier initialization of weights for oupt.\n",
    "        nn.init.zeros_(self.oupt.bias)            # Initialize biases of oupt to zeros.\n",
    "\n",
    "    def forward(self, x):\n",
    "        \"\"\"\n",
    "        Defines the forward pass of the neural network.\n",
    "\n",
    "        Args:\n",
    "        - x (torch.Tensor): Input tensor.\n",
    "\n",
    "        Returns:\n",
    "        - torch.Tensor: Output tensor.\n",
    "        \"\"\"\n",
    "        # Apply the sigmoid activation function to the hidden layers 'hid1' and 'hid2'.\n",
    "        z = T.sigmoid(self.hid1(x))\n",
    "        z = T.tanh(self.hid2(z))\n",
    "\n",
    "        # The output layer 'oupt' does not apply an activation function (linear layer).\n",
    "        z = self.oupt(z)  # no activation\n",
    "\n",
    "        return z"
   ]
  },
  {
   "cell_type": "markdown",
   "id": "8bcf6998ef19e73",
   "metadata": {
    "collapsed": false
   },
   "source": [
    "### Initialize the Multiple Linear Regression (MLR) Model\n",
    "\n",
    "An instance of the Multiple Linear Regression (MLR) model is created and its parameters are printed. The MLR model is designed for regression tasks, and in this instance, it is configured with 6 input features and is expected to produce 2 output values.\n"
   ]
  },
  {
   "cell_type": "code",
   "execution_count": 160,
   "id": "655857979ef2f3ae",
   "metadata": {
    "collapsed": false,
    "ExecuteTime": {
     "end_time": "2023-10-20T20:53:23.115598800Z",
     "start_time": "2023-10-20T20:53:22.836337800Z"
    }
   },
   "outputs": [
    {
     "name": "stdout",
     "output_type": "stream",
     "text": [
      "The parameters:  [Parameter containing:\n",
      "tensor([[-0.1680, -0.3519,  0.2442, -0.0910, -0.2507,  0.1035],\n",
      "        [-0.2971,  0.2781,  0.2285, -0.3905, -0.3119, -0.2620],\n",
      "        [-0.2151,  0.0496, -0.3929, -0.2946,  0.1815, -0.1301],\n",
      "        [-0.1581, -0.3287,  0.1611,  0.0281, -0.1536, -0.2433],\n",
      "        [ 0.0845,  0.1081,  0.1764,  0.1181, -0.0606, -0.3076],\n",
      "        [ 0.2530, -0.0034, -0.2641,  0.3427,  0.2215, -0.3123],\n",
      "        [-0.1984, -0.1352, -0.2294,  0.1856, -0.2835,  0.3693],\n",
      "        [-0.1642,  0.2346,  0.0135, -0.1748,  0.2653, -0.3032],\n",
      "        [-0.2102,  0.0476,  0.3152, -0.1703, -0.2420, -0.2537],\n",
      "        [-0.1752, -0.1373, -0.0926, -0.2261,  0.1242,  0.0032],\n",
      "        [-0.2596, -0.2269,  0.0841, -0.0057,  0.2812, -0.0602],\n",
      "        [-0.3219, -0.2939, -0.1166, -0.0880,  0.0453, -0.0891],\n",
      "        [ 0.1466, -0.1322,  0.2916,  0.0913, -0.1222,  0.3541],\n",
      "        [ 0.1014, -0.2700, -0.2211,  0.2492,  0.1815,  0.3103],\n",
      "        [-0.0305,  0.2779,  0.1976,  0.1229, -0.0920,  0.3831],\n",
      "        [ 0.0804, -0.1025, -0.0056,  0.3906,  0.2669, -0.0294],\n",
      "        [ 0.3896,  0.1745, -0.2116, -0.3616,  0.2309,  0.3727],\n",
      "        [-0.2315,  0.1632,  0.0169, -0.0850, -0.1080,  0.1105],\n",
      "        [ 0.0876,  0.2684,  0.1455,  0.1808,  0.3505,  0.1237],\n",
      "        [ 0.0590, -0.1447,  0.2914,  0.0587,  0.2561,  0.3837],\n",
      "        [-0.0889,  0.2798, -0.0807,  0.3586,  0.3128, -0.1424],\n",
      "        [ 0.0143, -0.1735, -0.1607, -0.0805, -0.0027, -0.1385],\n",
      "        [-0.3751, -0.2403, -0.0340, -0.1268,  0.2951,  0.3230],\n",
      "        [ 0.2531,  0.1759, -0.3150,  0.3754, -0.3502, -0.1306],\n",
      "        [-0.2797,  0.1429, -0.3306, -0.1959, -0.2524, -0.2443],\n",
      "        [-0.1855,  0.3906, -0.0325,  0.1211, -0.3945,  0.3533],\n",
      "        [-0.0865, -0.3647,  0.2738, -0.1074,  0.3609, -0.2699],\n",
      "        [-0.3689, -0.2985,  0.1721, -0.0446, -0.3681,  0.0737],\n",
      "        [-0.0253,  0.1436, -0.2021, -0.2837,  0.2708, -0.1912],\n",
      "        [ 0.2795,  0.3222, -0.2779, -0.1832,  0.0478, -0.3747],\n",
      "        [ 0.1220, -0.1656, -0.1762, -0.3072,  0.1859, -0.2532],\n",
      "        [-0.3176, -0.1045, -0.2212, -0.3863,  0.1601, -0.1512]],\n",
      "       requires_grad=True), Parameter containing:\n",
      "tensor([0., 0., 0., 0., 0., 0., 0., 0., 0., 0., 0., 0., 0., 0., 0., 0., 0., 0., 0., 0., 0., 0., 0., 0.,\n",
      "        0., 0., 0., 0., 0., 0., 0., 0.], requires_grad=True), Parameter containing:\n",
      "tensor([[ 0.2713,  0.2726, -0.2470, -0.2258, -0.1375,  0.2269, -0.0133, -0.1384,\n",
      "          0.2399,  0.3673,  0.2863, -0.2962, -0.0804, -0.0743,  0.3305, -0.2003,\n",
      "         -0.2220,  0.0061, -0.0900,  0.1466,  0.0471, -0.2312,  0.2816,  0.2411,\n",
      "          0.0848, -0.3506,  0.1820,  0.2573,  0.1078, -0.1497,  0.0260, -0.1488],\n",
      "        [ 0.3646,  0.3740, -0.0451, -0.2606,  0.2278,  0.1977,  0.2053, -0.2914,\n",
      "          0.1313, -0.1653, -0.3404, -0.2704,  0.1642,  0.1450, -0.3399,  0.2196,\n",
      "          0.2968,  0.2940,  0.2187, -0.0608,  0.2595,  0.3032,  0.2019, -0.2786,\n",
      "         -0.1352,  0.3068,  0.2953,  0.2471, -0.1619, -0.0767, -0.2885, -0.2207],\n",
      "        [ 0.2973, -0.3179, -0.0957,  0.0822, -0.2324,  0.0903, -0.0623,  0.1549,\n",
      "         -0.2972,  0.0534, -0.3531,  0.2403,  0.3762, -0.1382,  0.0573, -0.1995,\n",
      "         -0.2477, -0.1961, -0.1845,  0.0735, -0.0444,  0.0272, -0.2968, -0.2433,\n",
      "         -0.3353, -0.2784,  0.3243,  0.1439, -0.3694, -0.0646,  0.0311,  0.2069],\n",
      "        [ 0.3592,  0.0935,  0.2728, -0.1378, -0.0127, -0.2338,  0.0892,  0.3575,\n",
      "          0.2432,  0.3854, -0.1745, -0.0485,  0.0799,  0.3114, -0.3560, -0.1902,\n",
      "          0.0562, -0.2239,  0.1447, -0.0264, -0.1004,  0.2077,  0.2768,  0.3767,\n",
      "          0.1754, -0.0106,  0.3167,  0.3082, -0.1941,  0.1764,  0.0454, -0.1674],\n",
      "        [-0.0922, -0.0915, -0.2710, -0.1182,  0.1303,  0.2843,  0.0294, -0.3751,\n",
      "          0.2051, -0.1172,  0.3459, -0.3742, -0.0906,  0.3004,  0.1675, -0.1932,\n",
      "         -0.3354, -0.0042,  0.1496, -0.3215, -0.3241, -0.0049, -0.0794,  0.2489,\n",
      "         -0.3753, -0.0616, -0.3001, -0.0564, -0.1979,  0.1219, -0.3240, -0.3047],\n",
      "        [-0.2198, -0.3392,  0.2445, -0.0554, -0.2152,  0.2714, -0.0879,  0.2003,\n",
      "         -0.1201, -0.3240,  0.0851,  0.2412, -0.3776,  0.0403,  0.0772,  0.0445,\n",
      "         -0.0096, -0.1204, -0.3007,  0.0632, -0.2601, -0.3200, -0.1243, -0.2651,\n",
      "          0.1187,  0.2759,  0.3010, -0.2401,  0.2112,  0.2752,  0.0043,  0.1634],\n",
      "        [ 0.2191,  0.2963,  0.2072,  0.1653, -0.1470, -0.2159, -0.1837,  0.3187,\n",
      "         -0.0938,  0.0139, -0.3612, -0.0172, -0.1093, -0.2499,  0.2999, -0.3136,\n",
      "         -0.0554, -0.0275, -0.3506,  0.2342, -0.1232,  0.1740,  0.2162,  0.3415,\n",
      "          0.0958,  0.2908,  0.3577,  0.0768, -0.0789, -0.1060,  0.0627,  0.1394],\n",
      "        [-0.3654,  0.2902,  0.0611, -0.3608,  0.1241,  0.2458,  0.1447,  0.3161,\n",
      "          0.0080, -0.3213, -0.0009,  0.2815, -0.1863,  0.1652,  0.0893, -0.0628,\n",
      "          0.0028,  0.1648, -0.2650,  0.2445,  0.2622,  0.2173,  0.3870, -0.0169,\n",
      "         -0.2735,  0.0177, -0.1124,  0.1367,  0.3276, -0.2120,  0.0162,  0.3767]],\n",
      "       requires_grad=True), Parameter containing:\n",
      "tensor([0., 0., 0., 0., 0., 0., 0., 0.], requires_grad=True), Parameter containing:\n",
      "tensor([[-0.6184, -0.1337,  0.7522,  0.5412,  0.2248, -0.3341, -0.0722, -0.6946],\n",
      "        [-0.7293, -0.7257,  0.7440,  0.6127,  0.3073, -0.1946,  0.6669, -0.2046]],\n",
      "       requires_grad=True), Parameter containing:\n",
      "tensor([0., 0.], requires_grad=True)]\n"
     ]
    }
   ],
   "source": [
    "# Create an instance of the MultipleLinearRegression model with 6 input features and 2 output units.\n",
    "MLR_model = MultipleLinearRegression(input=6, output=2)\n",
    "\n",
    "# Print the parameters of the MLR model.\n",
    "print(\"The parameters: \", list(MLR_model.parameters()))"
   ]
  },
  {
   "cell_type": "markdown",
   "id": "9260b10bfb223ff5",
   "metadata": {
    "collapsed": false
   },
   "source": [
    "# Model Optimization and Loss Definition\n",
    "\n",
    "In this section, the model optimizer is selected, and the loss criterion for training the Multiple Linear Regression model is defined.\n",
    "\n",
    "## Model Optimizer\n",
    "We use the AdamW optimizer to update the model parameters during training. The learning rate (LR) determines the step size for parameter updates."
   ]
  },
  {
   "cell_type": "code",
   "execution_count": 161,
   "id": "14dae56105a05687",
   "metadata": {
    "collapsed": false,
    "ExecuteTime": {
     "end_time": "2023-10-20T20:53:23.118598700Z",
     "start_time": "2023-10-20T20:53:22.846034900Z"
    }
   },
   "outputs": [],
   "source": [
    "optimizer = torch.optim.AdamW(MLR_model.parameters(), lr=LR)"
   ]
  },
  {
   "cell_type": "code",
   "execution_count": 162,
   "id": "48c1cfc3a08776fb",
   "metadata": {
    "collapsed": false,
    "ExecuteTime": {
     "end_time": "2023-10-20T20:53:23.135602900Z",
     "start_time": "2023-10-20T20:53:22.848539Z"
    }
   },
   "outputs": [],
   "source": [
    "# Define the Mean Squared Error (MSE) loss criterion\n",
    "criterion = torch.nn.CrossEntropyLoss()"
   ]
  },
  {
   "cell_type": "markdown",
   "id": "564034c92c2bb88b",
   "metadata": {
    "collapsed": false
   },
   "source": [
    "# Model Prediction Check (Before Training)\n",
    "\n",
    "In this section, we check the model's ability to make predictions before any training has occurred. This is often referred to as a \"sanity check\" to ensure the model is functional.\n",
    "\n",
    "## Model Prediction\n",
    "We provide a sample input tensor `x` to the Multiple Linear Regression (MLR) model and evaluate its prediction. Please note that at this stage, the model has not undergone any training.\n"
   ]
  },
  {
   "cell_type": "code",
   "execution_count": 163,
   "id": "809ad0813ed69a1c",
   "metadata": {
    "collapsed": false,
    "ExecuteTime": {
     "end_time": "2023-10-20T20:53:23.135602900Z",
     "start_time": "2023-10-20T20:53:22.852932900Z"
    }
   },
   "outputs": [
    {
     "name": "stdout",
     "output_type": "stream",
     "text": [
      "tensor([-0.4603, -0.9805], grad_fn=<ViewBackward0>)\n"
     ]
    }
   ],
   "source": [
    "# Check the model gives data (NO TRAINING YET)\n",
    "x = torch.tensor([8, 6, 10, 1.0, 16, 100])\n",
    "y_pred = MLR_model(x)\n",
    "print(y_pred)"
   ]
  },
  {
   "cell_type": "markdown",
   "id": "8855654381dd7061",
   "metadata": {
    "collapsed": false
   },
   "source": [
    "# Model Training Loop\n",
    "\n",
    "In this section, we define the training loop for the Multiple Linear Regression (MLR) model. The training process involves multiple epochs, where the model learns from the training data to optimize its parameters and reduce the loss."
   ]
  },
  {
   "cell_type": "code",
   "execution_count": 164,
   "id": "d8c2e34e",
   "metadata": {
    "ExecuteTime": {
     "end_time": "2023-10-20T20:53:23.135602900Z",
     "start_time": "2023-10-20T20:53:22.858541500Z"
    }
   },
   "outputs": [],
   "source": [
    "class EarlyStopping:\n",
    "    def __init__(self, tolerance=5, min_delta=0):\n",
    "\n",
    "        self.tolerance = tolerance\n",
    "        self.min_delta = min_delta\n",
    "        self.counter = 0\n",
    "        self.early_stop = False\n",
    "\n",
    "    def __call__(self, train_loss, validation_loss):\n",
    "        if (validation_loss - train_loss) > self.min_delta:\n",
    "            self.counter +=1\n",
    "            if self.counter >= self.tolerance:  \n",
    "                self.early_stop = True"
   ]
  },
  {
   "cell_type": "code",
   "execution_count": 165,
   "id": "2fc04cc5",
   "metadata": {
    "ExecuteTime": {
     "end_time": "2023-10-20T20:53:23.176611200Z",
     "start_time": "2023-10-20T20:53:22.862542500Z"
    }
   },
   "outputs": [],
   "source": [
    "def train_model(model, batch_size, patience, n_epochs):\n",
    "    \n",
    "    # to track the training loss as the model trains\n",
    "    train_losses = []\n",
    "    # to track the validation loss as the model trains\n",
    "    valid_losses = []\n",
    "    # to track the average training loss per epoch as the model trains\n",
    "    avg_train_losses = []\n",
    "    # to track the average validation loss per epoch as the model trains\n",
    "    avg_valid_losses = [] \n",
    "    \n",
    "    # initialize the early_stopping object\n",
    "    early_stopping = EarlyStopping()\n",
    "    \n",
    "    for epoch in range(1, n_epochs + 1):\n",
    "\n",
    "        ###################\n",
    "        # train the model #\n",
    "        ###################\n",
    "        model.train() # prep model for training\n",
    "        for batch, (data, target) in enumerate(train_loader, 1):\n",
    "            # clear the gradients of all optimized variables\n",
    "            optimizer.zero_grad()\n",
    "            # forward pass: compute predicted outputs by passing inputs to the model\n",
    "            output = model(data)\n",
    "            # calculate the loss\n",
    "            loss = criterion(output, target)\n",
    "            # backward pass: compute gradient of the loss with respect to model parameters\n",
    "            loss.backward()\n",
    "            # perform a single optimization step (parameter update)\n",
    "            optimizer.step()\n",
    "            # record training loss\n",
    "            train_losses.append(loss.item())\n",
    "\n",
    "        ######################    \n",
    "        # validate the model #\n",
    "        ######################\n",
    "        model.eval() # prep model for evaluation\n",
    "        for data, target in valid_loader:\n",
    "            # forward pass: compute predicted outputs by passing inputs to the model\n",
    "            output = model(data)\n",
    "            # calculate the loss\n",
    "            loss = criterion(output, target)\n",
    "            # record validation loss\n",
    "            valid_losses.append(loss.item())\n",
    "\n",
    "        # print training/validation statistics \n",
    "        # calculate average loss over an epoch\n",
    "        train_loss = np.average(train_losses)\n",
    "        valid_loss = np.average(valid_losses)\n",
    "        avg_train_losses.append(train_loss)\n",
    "        avg_valid_losses.append(valid_loss)\n",
    "        \n",
    "        epoch_len = len(str(n_epochs))\n",
    "        \n",
    "        print_msg = (f'[{epoch:>{epoch_len}}/{n_epochs:>{epoch_len}}] ' +\n",
    "                     f'train_loss: {train_loss:.5f} ' +\n",
    "                     f'valid_loss: {valid_loss:.5f}')\n",
    "        \n",
    "        print(print_msg)\n",
    "        \n",
    "        # clear lists to track next epoch\n",
    "        train_losses = []\n",
    "        valid_losses = []\n",
    "        \n",
    "        # early_stopping needs the validation loss to check if it has decresed, \n",
    "        # and if it has, it will make a checkpoint of the current model\n",
    "        early_stopping(train_loss, valid_loss)\n",
    "        \n",
    "        if early_stopping.early_stop:\n",
    "            print(\"Early stopping\")\n",
    "            break\n",
    "        \n",
    "    return  model, avg_train_losses, avg_valid_losses"
   ]
  },
  {
   "cell_type": "code",
   "execution_count": 166,
   "id": "44f33a3d2911e3ba",
   "metadata": {
    "collapsed": false,
    "ExecuteTime": {
     "end_time": "2023-10-20T20:53:23.176611200Z",
     "start_time": "2023-10-20T20:53:22.869429Z"
    }
   },
   "outputs": [],
   "source": [
    "# t_losses = []\n",
    "# for epoch in range(EPOCH):\n",
    "#     for i, (inputs, targets) in enumerate(train_loader):\n",
    "#         # Zero the gradients\n",
    "#         optimizer.zero_grad()\n",
    "\n",
    "#         # Forward pass\n",
    "#         outputs = MLR_model(inputs)\n",
    "#         loss = criterion(outputs, targets)\n",
    "#         t_losses.append(loss.item())\n",
    "\n",
    "#         # Backward pass and optimization\n",
    "#         loss.backward()\n",
    "#         optimizer.step()\n",
    "#         # scheduler.step()\n",
    "\n",
    "#         # Print training statistics\n",
    "#         if (i + 1) % 10 == 0:\n",
    "#             print(f'Epoch [{epoch + 1}/{EPOCH}], Step [{i + 1}/{len(train_loader)}], Loss: {loss.item():.4f}')\n"
   ]
  },
  {
   "cell_type": "code",
   "execution_count": 167,
   "id": "4ec8d40a",
   "metadata": {
    "ExecuteTime": {
     "end_time": "2023-10-20T20:53:23.490308400Z",
     "start_time": "2023-10-20T20:53:22.874543900Z"
    }
   },
   "outputs": [
    {
     "name": "stdout",
     "output_type": "stream",
     "text": [
      "[  1/100] train_loss: 1.78754 valid_loss: 1.72133\n",
      "[  2/100] train_loss: 1.74935 valid_loss: 1.69665\n",
      "[  3/100] train_loss: 1.72302 valid_loss: 1.68804\n",
      "[  4/100] train_loss: 1.71946 valid_loss: 1.68806\n",
      "[  5/100] train_loss: 1.72925 valid_loss: 1.68919\n",
      "[  6/100] train_loss: 1.74269 valid_loss: 1.68840\n",
      "[  7/100] train_loss: 1.72800 valid_loss: 1.68609\n",
      "[  8/100] train_loss: 1.71601 valid_loss: 1.68406\n",
      "[  9/100] train_loss: 1.72265 valid_loss: 1.68310\n",
      "[ 10/100] train_loss: 1.72215 valid_loss: 1.68281\n",
      "[ 11/100] train_loss: 1.72727 valid_loss: 1.68245\n",
      "[ 12/100] train_loss: 1.72199 valid_loss: 1.68196\n",
      "[ 13/100] train_loss: 1.70435 valid_loss: 1.68154\n",
      "[ 14/100] train_loss: 1.71884 valid_loss: 1.68135\n",
      "[ 15/100] train_loss: 1.71640 valid_loss: 1.68134\n",
      "[ 16/100] train_loss: 1.71495 valid_loss: 1.68131\n",
      "[ 17/100] train_loss: 1.72780 valid_loss: 1.68115\n",
      "[ 18/100] train_loss: 1.70933 valid_loss: 1.68090\n",
      "[ 19/100] train_loss: 1.73092 valid_loss: 1.68074\n",
      "[ 20/100] train_loss: 1.72749 valid_loss: 1.68069\n",
      "[ 21/100] train_loss: 1.71574 valid_loss: 1.68071\n",
      "[ 22/100] train_loss: 1.71420 valid_loss: 1.68075\n",
      "[ 23/100] train_loss: 1.71849 valid_loss: 1.68074\n",
      "[ 24/100] train_loss: 1.70602 valid_loss: 1.68074\n",
      "[ 25/100] train_loss: 1.72626 valid_loss: 1.68070\n",
      "[ 26/100] train_loss: 1.71864 valid_loss: 1.68069\n",
      "[ 27/100] train_loss: 1.71539 valid_loss: 1.68066\n",
      "[ 28/100] train_loss: 1.71624 valid_loss: 1.68066\n",
      "[ 29/100] train_loss: 1.71581 valid_loss: 1.68066\n",
      "[ 30/100] train_loss: 1.71395 valid_loss: 1.68066\n",
      "[ 31/100] train_loss: 1.70735 valid_loss: 1.68067\n",
      "[ 32/100] train_loss: 1.70302 valid_loss: 1.68066\n",
      "[ 33/100] train_loss: 1.72407 valid_loss: 1.68067\n",
      "[ 34/100] train_loss: 1.72448 valid_loss: 1.68070\n",
      "[ 35/100] train_loss: 1.71887 valid_loss: 1.68063\n",
      "[ 36/100] train_loss: 1.71927 valid_loss: 1.68058\n",
      "[ 37/100] train_loss: 1.71332 valid_loss: 1.68059\n",
      "[ 38/100] train_loss: 1.71963 valid_loss: 1.68061\n",
      "[ 39/100] train_loss: 1.70790 valid_loss: 1.68063\n",
      "[ 40/100] train_loss: 1.73170 valid_loss: 1.68063\n",
      "[ 41/100] train_loss: 1.71444 valid_loss: 1.68062\n",
      "[ 42/100] train_loss: 1.71866 valid_loss: 1.68061\n",
      "[ 43/100] train_loss: 1.72955 valid_loss: 1.68061\n",
      "[ 44/100] train_loss: 1.71211 valid_loss: 1.68056\n",
      "[ 45/100] train_loss: 1.71535 valid_loss: 1.68054\n",
      "[ 46/100] train_loss: 1.72675 valid_loss: 1.68054\n",
      "[ 47/100] train_loss: 1.70564 valid_loss: 1.68056\n",
      "[ 48/100] train_loss: 1.71415 valid_loss: 1.68058\n",
      "[ 49/100] train_loss: 1.70629 valid_loss: 1.68054\n",
      "[ 50/100] train_loss: 1.72380 valid_loss: 1.68050\n",
      "[ 51/100] train_loss: 1.72127 valid_loss: 1.68051\n",
      "[ 52/100] train_loss: 1.70620 valid_loss: 1.68057\n",
      "[ 53/100] train_loss: 1.72671 valid_loss: 1.68056\n",
      "[ 54/100] train_loss: 1.72304 valid_loss: 1.68050\n",
      "[ 55/100] train_loss: 1.70554 valid_loss: 1.68049\n",
      "[ 56/100] train_loss: 1.71255 valid_loss: 1.68049\n",
      "[ 57/100] train_loss: 1.71848 valid_loss: 1.68050\n",
      "[ 58/100] train_loss: 1.72427 valid_loss: 1.68047\n",
      "[ 59/100] train_loss: 1.70547 valid_loss: 1.68046\n",
      "[ 60/100] train_loss: 1.71874 valid_loss: 1.68045\n",
      "[ 61/100] train_loss: 1.72011 valid_loss: 1.68046\n",
      "[ 62/100] train_loss: 1.71914 valid_loss: 1.68044\n",
      "[ 63/100] train_loss: 1.71569 valid_loss: 1.68044\n",
      "[ 64/100] train_loss: 1.71503 valid_loss: 1.68043\n",
      "[ 65/100] train_loss: 1.70727 valid_loss: 1.68044\n",
      "[ 66/100] train_loss: 1.71525 valid_loss: 1.68043\n",
      "[ 67/100] train_loss: 1.70713 valid_loss: 1.68042\n",
      "[ 68/100] train_loss: 1.71111 valid_loss: 1.68042\n",
      "[ 69/100] train_loss: 1.71969 valid_loss: 1.68045\n",
      "[ 70/100] train_loss: 1.72803 valid_loss: 1.68041\n",
      "[ 71/100] train_loss: 1.71594 valid_loss: 1.68043\n",
      "[ 72/100] train_loss: 1.72126 valid_loss: 1.68044\n",
      "[ 73/100] train_loss: 1.72300 valid_loss: 1.68042\n",
      "[ 74/100] train_loss: 1.71388 valid_loss: 1.68045\n",
      "[ 75/100] train_loss: 1.71544 valid_loss: 1.68043\n",
      "[ 76/100] train_loss: 1.70871 valid_loss: 1.68042\n",
      "[ 77/100] train_loss: 1.71109 valid_loss: 1.68043\n",
      "[ 78/100] train_loss: 1.71230 valid_loss: 1.68042\n",
      "[ 79/100] train_loss: 1.72690 valid_loss: 1.68042\n",
      "[ 80/100] train_loss: 1.71508 valid_loss: 1.68043\n",
      "[ 81/100] train_loss: 1.72012 valid_loss: 1.68041\n",
      "[ 82/100] train_loss: 1.71026 valid_loss: 1.68041\n",
      "[ 83/100] train_loss: 1.72640 valid_loss: 1.68043\n",
      "[ 84/100] train_loss: 1.72476 valid_loss: 1.68042\n",
      "[ 85/100] train_loss: 1.71560 valid_loss: 1.68042\n",
      "[ 86/100] train_loss: 1.71168 valid_loss: 1.68041\n",
      "[ 87/100] train_loss: 1.71421 valid_loss: 1.68042\n",
      "[ 88/100] train_loss: 1.71945 valid_loss: 1.68042\n",
      "[ 89/100] train_loss: 1.70751 valid_loss: 1.68040\n",
      "[ 90/100] train_loss: 1.70607 valid_loss: 1.68041\n",
      "[ 91/100] train_loss: 1.72578 valid_loss: 1.68041\n",
      "[ 92/100] train_loss: 1.71956 valid_loss: 1.68041\n",
      "[ 93/100] train_loss: 1.72058 valid_loss: 1.68041\n",
      "[ 94/100] train_loss: 1.73258 valid_loss: 1.68042\n",
      "[ 95/100] train_loss: 1.72613 valid_loss: 1.68040\n",
      "[ 96/100] train_loss: 1.72668 valid_loss: 1.68040\n",
      "[ 97/100] train_loss: 1.71447 valid_loss: 1.68042\n",
      "[ 98/100] train_loss: 1.72090 valid_loss: 1.68040\n",
      "[ 99/100] train_loss: 1.71567 valid_loss: 1.68041\n",
      "[100/100] train_loss: 1.71377 valid_loss: 1.68041\n"
     ]
    }
   ],
   "source": [
    "train_loader, test_loader, valid_loader = create_datasets(BATCH_SIZE)\n",
    "\n",
    "# early stopping patience; how long to wait after last time validation loss improved.\n",
    "patience = 20\n",
    "\n",
    "model, train_loss, valid_loss = train_model(MLR_model, BATCH_SIZE, patience, EPOCH)"
   ]
  },
  {
   "cell_type": "markdown",
   "id": "a460d7d9d2ade25e",
   "metadata": {
    "collapsed": false
   },
   "source": [
    "# Model Evaluation on Test Data\n",
    "\n",
    "In this section, we evaluate the trained MLR model on the test dataset and calculate the test loss to assess the model's performance."
   ]
  },
  {
   "cell_type": "code",
   "execution_count": 168,
   "id": "529056adbdc3cb28",
   "metadata": {
    "collapsed": false,
    "ExecuteTime": {
     "end_time": "2023-10-20T20:53:23.491308700Z",
     "start_time": "2023-10-20T20:53:23.476797100Z"
    }
   },
   "outputs": [],
   "source": [
    "# # Evaluate the model on the test data\n",
    "# with torch.no_grad():\n",
    "#     total_loss = 0\n",
    "    \n",
    "#     # Iterate over batches in the test loader\n",
    "#     for inputs, targets in test_loader:\n",
    "#         outputs = MLR_model(inputs)  # Forward pass to get model predictions\n",
    "#         loss = criterion(outputs, targets)  # Calculate the loss\n",
    "        \n",
    "#         total_loss += loss.item()  # Accumulate the loss for all batches\n",
    "    \n",
    "#     mean_loss = total_loss / len(test_loader)  # Calculate the mean loss over all batches\n",
    "#     print(f'Test Loss: {mean_loss:.4f}')"
   ]
  },
  {
   "cell_type": "markdown",
   "id": "aecccf978b37a589",
   "metadata": {
    "collapsed": false
   },
   "source": [
    "# Plotting Training Losses\n",
    "\n",
    "In this section, we visualize the training progress by plotting the training losses. The loss values are plotted against the number of iterations, providing insight into the model's convergence during training."
   ]
  },
  {
   "cell_type": "code",
   "execution_count": 169,
   "id": "77e25dc5823a50df",
   "metadata": {
    "collapsed": false,
    "ExecuteTime": {
     "end_time": "2023-10-20T20:53:23.790969800Z",
     "start_time": "2023-10-20T20:53:23.482307200Z"
    }
   },
   "outputs": [
    {
     "data": {
      "text/plain": "<Figure size 1000x800 with 1 Axes>",
      "image/png": "[encoded data removed]"
     },
     "metadata": {},
     "output_type": "display_data"
    }
   ],
   "source": [
    "# visualize the loss as the network trained\n",
    "import matplotlib.pyplot as plt\n",
    "\n",
    "fig = plt.figure(figsize=(10,8))\n",
    "plt.plot(range(1,len(train_loss)+1),train_loss, label='Training Loss')\n",
    "plt.plot(range(1,len(valid_loss)+1),valid_loss,label='Validation Loss')\n",
    "\n",
    "# find position of lowest validation loss\n",
    "minposs = valid_loss.index(min(valid_loss))+1 \n",
    "plt.axvline(minposs, linestyle='--', color='r',label='Early Stopping Checkpoint')\n",
    "\n",
    "plt.xlabel('epochs')\n",
    "plt.ylabel('loss')\n",
    "plt.ylim(0, 0.5) # consistent scale\n",
    "plt.xlim(0, len(train_loss)+1) # consistent scale\n",
    "plt.grid(True)\n",
    "plt.legend()\n",
    "plt.tight_layout()\n",
    "plt.show()\n",
    "fig.savefig('loss_plot.png', bbox_inches='tight')"
   ]
  },
  {
   "cell_type": "markdown",
   "id": "88ea3ab88445cb6e",
   "metadata": {
    "collapsed": false
   },
   "source": [
    "# Testing the Model\n",
    "\n",
    "In this section, we evaluate the trained model by testing it on a set of case histories. The case histories include parameters and known outcomes for different locations.\n",
    "\n",
    "## Case Histories Parameters\n",
    "We define a list of case histories parameters, where each sub-list represents a location's specific parameters:\n",
    "\n",
    "```python\n",
    "cases = [\n",
    "    [2.4, 4.8, 15, 1, 19, 12],   # Fornebu, Oslo\n",
    "    [5, 5, 0, 1, 19, 16],       # Feria, Oslo\n",
    "    [11.3, 16, 0, 1, 19, 35]    # Chicago, USA\n",
    "]\n"
   ]
  },
  {
   "cell_type": "code",
   "execution_count": 170,
   "id": "79f485e3d16d0486",
   "metadata": {
    "collapsed": false,
    "ExecuteTime": {
     "end_time": "2023-10-20T20:53:23.791970400Z",
     "start_time": "2023-10-20T20:53:23.765213300Z"
    }
   },
   "outputs": [
    {
     "name": "stdout",
     "output_type": "stream",
     "text": [
      "Avg. FoS for case_0 is -0.9112091064453125\n",
      "Avg. FoS for case_1 is -0.968427836894989\n",
      "Avg. FoS for case_2 is -1.016046404838562\n"
     ]
    }
   ],
   "source": [
    "# Testing the model\n",
    "\n",
    "# Case histories parameters\n",
    "# Input is on the form [B (m), H (m), q (kPa), Rint, Gamma (kN/cu.m), Su (kPa)]\n",
    "\n",
    "cases = [\n",
    "    [2.4, 4.8, 15, 1, 19, 12],  # Fornebu, Oslo\n",
    "    [5, 5, 0, 1, 19, 16],      # Feria, Oslo\n",
    "    [11.3, 16, 0, 1, 19, 35]   # Chicago, USA\n",
    "]\n",
    "\n",
    "\n",
    "# Case histories outcomes\n",
    "cases_op = [\n",
    "    [1.03, 1.11, 0.97, 1.05],  # Fornebu, Oslo\n",
    "    [1.02, 1.26, 1.03, 1.1],  # Feria, Oslo\n",
    "    [1, 1.11, 0.95, 1]        # Chicago, USA\n",
    "]\n",
    "\n",
    "for i, each_case in enumerate(cases):\n",
    "    y_pred_MLR = MLR_model(torch.Tensor(each_case))\n",
    "    val = float(np.average(y_pred_MLR.detach()))\n",
    "    cases_op[i].append(val)\n",
    "    print(f'Avg. FoS for case_{i} is {val}')"
   ]
  },
  {
   "cell_type": "code",
   "execution_count": 171,
   "id": "7efee78296036e22",
   "metadata": {
    "collapsed": false,
    "ExecuteTime": {
     "end_time": "2023-10-20T20:53:24.674574Z",
     "start_time": "2023-10-20T20:53:23.769965200Z"
    }
   },
   "outputs": [
    {
     "data": {
      "text/plain": "<Figure size 640x550 with 1 Axes>",
      "image/png": "[encoded data removed]"
     },
     "metadata": {},
     "output_type": "display_data"
    }
   ],
   "source": [
    "import numpy as np\n",
    "import matplotlib.pyplot as plt\n",
    "\n",
    "species = ('Fornebu, Oslo', 'Feria, Oslo', 'Chicago, USA')\n",
    "\n",
    "means = {\n",
    "    \"Eide's (1956)\": [],\n",
    "    \"Terzaghi (1943)\": [],\n",
    "    \"Simplified UBLA\": [],\n",
    "    \"Modified Terzaghi\": [],\n",
    "    \"FELA-FNN\": []\n",
    "}\n",
    "\n",
    "# Assuming you have 'cases_op' defined elsewhere\n",
    "\n",
    "for i, items in enumerate(means.items()):\n",
    "    means[items[0]] += ([x[i] for x in cases_op])\n",
    "\n",
    "x = np.arange(len(species))  # the label locations\n",
    "width = 0.1  # the width of the bars\n",
    "multiplier = 0\n",
    "\n",
    "fig, ax = plt.subplots(figsize=(6.4, 5.5))\n",
    "\n",
    "for attribute, measurement in means.items():\n",
    "    offset = width * multiplier\n",
    "    rects = ax.bar(x + offset, measurement, width, label=attribute)\n",
    "    multiplier += 1\n",
    "\n",
    "# Add some text for labels, title, and custom x-axis tick labels, etc.\n",
    "ax.set_ylabel('FoS')\n",
    "\n",
    "# Set y-axis limits\n",
    "ax.set_ylim(0.5,1.5)\n",
    "\n",
    "# Adjust the x-axis tick positions and labels\n",
    "new_x = x + width * (len(means) - 1) / 2\n",
    "ax.set_xticks(new_x)\n",
    "ax.set_xticklabels(species, rotation=0, ha='center', fontsize=8, fontweight='bold')  # Adjust 'ha' to 'center'\n",
    "\n",
    "# Adjust the legend location to 'upper right' and specify the number of columns (ncols)\n",
    "legend = ax.legend(loc='upper right', ncols=1)\n",
    "\n",
    "# Set the transparency of the legend background to 50%\n",
    "legend.get_frame().set_alpha(0.5)\n",
    "\n",
    "ax.axhline(y=1, color='red', linestyle='--', label='Y = 1')\n",
    "\n",
    "# Set the chart title with a customizable font size\n",
    "chart_title = \"Comparison between the FoS predictions of different classical approaches and the FELA-FNN\"\n",
    "title_fontsize = 8  # You can adjust the font size as needed\n",
    "ax.set_title(chart_title, fontsize=title_fontsize, fontweight='bold')  # Make the title bold\n",
    "\n",
    "# Increase figure quality by adjusting the DPI\n",
    "plt.savefig('your_figure_600_2.png', dpi=600)  # You can adjust the filename and DPI as needed\n",
    "\n",
    "plt.show()"
   ]
  },
  {
   "cell_type": "markdown",
   "id": "bbfd2521e2dbcf56",
   "metadata": {
    "collapsed": false
   },
   "source": [
    "## Plotting Su vs. FoS"
   ]
  },
  {
   "cell_type": "code",
   "execution_count": 172,
   "id": "947e449f652c01ee",
   "metadata": {
    "collapsed": false,
    "ExecuteTime": {
     "end_time": "2023-10-20T20:53:24.758593400Z",
     "start_time": "2023-10-20T20:53:24.674574Z"
    }
   },
   "outputs": [
    {
     "ename": "TypeError",
     "evalue": "min() received an invalid combination of arguments - got (axis=NoneType, out=NoneType, ), but expected one of:\n * ()\n * (Tensor other)\n * (int dim, bool keepdim)\n      didn't match because some of the keywords were incorrect: axis, out\n * (name dim, bool keepdim)\n      didn't match because some of the keywords were incorrect: axis, out\n",
     "output_type": "error",
     "traceback": [
      "\u001B[1;31m---------------------------------------------------------------------------\u001B[0m",
      "\u001B[1;31mTypeError\u001B[0m                                 Traceback (most recent call last)",
      "Cell \u001B[1;32mIn[172], line 29\u001B[0m\n\u001B[0;32m     27\u001B[0m \u001B[38;5;28;01mfor\u001B[39;00m each_case \u001B[38;5;129;01min\u001B[39;00m cases:\n\u001B[0;32m     28\u001B[0m     y_pred_MLR \u001B[38;5;241m=\u001B[39m MLR_model(torch\u001B[38;5;241m.\u001B[39mTensor(each_case))    \n\u001B[1;32m---> 29\u001B[0m     LB_FoS \u001B[38;5;241m=\u001B[39m \u001B[38;5;28mfloat\u001B[39m(\u001B[43mnp\u001B[49m\u001B[38;5;241;43m.\u001B[39;49m\u001B[43mmin\u001B[49m\u001B[43m(\u001B[49m\u001B[43my_pred_MLR\u001B[49m\u001B[38;5;241;43m.\u001B[39;49m\u001B[43mdetach\u001B[49m\u001B[43m(\u001B[49m\u001B[43m)\u001B[49m\u001B[43m)\u001B[49m)\n\u001B[0;32m     30\u001B[0m     \u001B[38;5;28mprint\u001B[39m(\u001B[38;5;124m'\u001B[39m\u001B[38;5;124mLB FoS: \u001B[39m\u001B[38;5;124m'\u001B[39m, LB_FoS)\n\u001B[0;32m     31\u001B[0m     UB_FoS \u001B[38;5;241m=\u001B[39m \u001B[38;5;28mfloat\u001B[39m(np\u001B[38;5;241m.\u001B[39mmin(y_pred_MLR\u001B[38;5;241m.\u001B[39mdetach()))\n",
      "File \u001B[1;32m~\\PycharmProjects\\MScWork\\venv\\Lib\\site-packages\\numpy\\core\\fromnumeric.py:2953\u001B[0m, in \u001B[0;36mmin\u001B[1;34m(a, axis, out, keepdims, initial, where)\u001B[0m\n\u001B[0;32m   2836\u001B[0m \u001B[38;5;129m@array_function_dispatch\u001B[39m(_min_dispatcher)\n\u001B[0;32m   2837\u001B[0m \u001B[38;5;28;01mdef\u001B[39;00m \u001B[38;5;21mmin\u001B[39m(a, axis\u001B[38;5;241m=\u001B[39m\u001B[38;5;28;01mNone\u001B[39;00m, out\u001B[38;5;241m=\u001B[39m\u001B[38;5;28;01mNone\u001B[39;00m, keepdims\u001B[38;5;241m=\u001B[39mnp\u001B[38;5;241m.\u001B[39m_NoValue, initial\u001B[38;5;241m=\u001B[39mnp\u001B[38;5;241m.\u001B[39m_NoValue,\n\u001B[0;32m   2838\u001B[0m         where\u001B[38;5;241m=\u001B[39mnp\u001B[38;5;241m.\u001B[39m_NoValue):\n\u001B[0;32m   2839\u001B[0m \u001B[38;5;250m    \u001B[39m\u001B[38;5;124;03m\"\"\"\u001B[39;00m\n\u001B[0;32m   2840\u001B[0m \u001B[38;5;124;03m    Return the minimum of an array or minimum along an axis.\u001B[39;00m\n\u001B[0;32m   2841\u001B[0m \n\u001B[1;32m   (...)\u001B[0m\n\u001B[0;32m   2951\u001B[0m \u001B[38;5;124;03m    6\u001B[39;00m\n\u001B[0;32m   2952\u001B[0m \u001B[38;5;124;03m    \"\"\"\u001B[39;00m\n\u001B[1;32m-> 2953\u001B[0m     \u001B[38;5;28;01mreturn\u001B[39;00m \u001B[43m_wrapreduction\u001B[49m\u001B[43m(\u001B[49m\u001B[43ma\u001B[49m\u001B[43m,\u001B[49m\u001B[43m \u001B[49m\u001B[43mnp\u001B[49m\u001B[38;5;241;43m.\u001B[39;49m\u001B[43mminimum\u001B[49m\u001B[43m,\u001B[49m\u001B[43m \u001B[49m\u001B[38;5;124;43m'\u001B[39;49m\u001B[38;5;124;43mmin\u001B[39;49m\u001B[38;5;124;43m'\u001B[39;49m\u001B[43m,\u001B[49m\u001B[43m \u001B[49m\u001B[43maxis\u001B[49m\u001B[43m,\u001B[49m\u001B[43m \u001B[49m\u001B[38;5;28;43;01mNone\u001B[39;49;00m\u001B[43m,\u001B[49m\u001B[43m \u001B[49m\u001B[43mout\u001B[49m\u001B[43m,\u001B[49m\n\u001B[0;32m   2954\u001B[0m \u001B[43m                          \u001B[49m\u001B[43mkeepdims\u001B[49m\u001B[38;5;241;43m=\u001B[39;49m\u001B[43mkeepdims\u001B[49m\u001B[43m,\u001B[49m\u001B[43m \u001B[49m\u001B[43minitial\u001B[49m\u001B[38;5;241;43m=\u001B[39;49m\u001B[43minitial\u001B[49m\u001B[43m,\u001B[49m\u001B[43m \u001B[49m\u001B[43mwhere\u001B[49m\u001B[38;5;241;43m=\u001B[39;49m\u001B[43mwhere\u001B[49m\u001B[43m)\u001B[49m\n",
      "File \u001B[1;32m~\\PycharmProjects\\MScWork\\venv\\Lib\\site-packages\\numpy\\core\\fromnumeric.py:86\u001B[0m, in \u001B[0;36m_wrapreduction\u001B[1;34m(obj, ufunc, method, axis, dtype, out, **kwargs)\u001B[0m\n\u001B[0;32m     84\u001B[0m             \u001B[38;5;28;01mreturn\u001B[39;00m reduction(axis\u001B[38;5;241m=\u001B[39maxis, dtype\u001B[38;5;241m=\u001B[39mdtype, out\u001B[38;5;241m=\u001B[39mout, \u001B[38;5;241m*\u001B[39m\u001B[38;5;241m*\u001B[39mpasskwargs)\n\u001B[0;32m     85\u001B[0m         \u001B[38;5;28;01melse\u001B[39;00m:\n\u001B[1;32m---> 86\u001B[0m             \u001B[38;5;28;01mreturn\u001B[39;00m \u001B[43mreduction\u001B[49m\u001B[43m(\u001B[49m\u001B[43maxis\u001B[49m\u001B[38;5;241;43m=\u001B[39;49m\u001B[43maxis\u001B[49m\u001B[43m,\u001B[49m\u001B[43m \u001B[49m\u001B[43mout\u001B[49m\u001B[38;5;241;43m=\u001B[39;49m\u001B[43mout\u001B[49m\u001B[43m,\u001B[49m\u001B[43m \u001B[49m\u001B[38;5;241;43m*\u001B[39;49m\u001B[38;5;241;43m*\u001B[39;49m\u001B[43mpasskwargs\u001B[49m\u001B[43m)\u001B[49m\n\u001B[0;32m     88\u001B[0m \u001B[38;5;28;01mreturn\u001B[39;00m ufunc\u001B[38;5;241m.\u001B[39mreduce(obj, axis, dtype, out, \u001B[38;5;241m*\u001B[39m\u001B[38;5;241m*\u001B[39mpasskwargs)\n",
      "\u001B[1;31mTypeError\u001B[0m: min() received an invalid combination of arguments - got (axis=NoneType, out=NoneType, ), but expected one of:\n * ()\n * (Tensor other)\n * (int dim, bool keepdim)\n      didn't match because some of the keywords were incorrect: axis, out\n * (name dim, bool keepdim)\n      didn't match because some of the keywords were incorrect: axis, out\n"
     ]
    }
   ],
   "source": [
    "''' \n",
    "    B:      Excavation width (m)\n",
    "    H:      Excavation height (m)\n",
    "    q:      Uniform surcharge at GS (kPa)\n",
    "    Rint:   Interface strength reduction factor\n",
    "    Gamma:  Soil unit weight (kN/cu.m)\n",
    "    Su:     Undrained shear strength (kPa)\n",
    "    \n",
    "case_input = [B (m), H (m), q (kPa), Rint, Gamma (kN/cu.m), Su (kPa)]\n",
    "y_pred_MLR = MLR_model(torch.Tensor(each_case))\n",
    "LB_FoS = float(np.min(y_pred_MLR.detach()))\n",
    "UB_FoS = float(np.max(y_pred_MLR.detach()))\n",
    "\n",
    "'''\n",
    "no_of_curve_points = 50\n",
    "B = 5\n",
    "H = 10\n",
    "q = 20\n",
    "Rint = 1\n",
    "Gamma = 19\n",
    "su = range(0, no_of_curve_points, 1)  # Changed the step size to 1\n",
    "\n",
    "cases = []\n",
    "for i in su:\n",
    "    cases.append([B, H, q, Rint, Gamma, i])\n",
    "\n",
    "for each_case in cases:\n",
    "    y_pred_MLR = MLR_model(torch.Tensor(each_case))    \n",
    "    LB_FoS = float(np.min(y_pred_MLR.detach()))\n",
    "    print('LB FoS: ', LB_FoS)\n",
    "    UB_FoS = float(np.min(y_pred_MLR.detach()))\n",
    "    print('UB FoS: ',UB_FoS)\n",
    "    Avg_FoS = float(np.average(y_pred_MLR.detach()))\n",
    "    print(Avg_FoS)\n",
    "    "
   ]
  },
  {
   "cell_type": "code",
   "execution_count": null,
   "id": "abe438dbf0995847",
   "metadata": {
    "collapsed": false,
    "ExecuteTime": {
     "start_time": "2023-10-20T20:53:24.751591800Z"
    }
   },
   "outputs": [],
   "source": [
    "#cases\n",
    "print('Nahh')"
   ]
  },
  {
   "cell_type": "code",
   "execution_count": null,
   "id": "a007754b206a1883",
   "metadata": {
    "collapsed": false,
    "ExecuteTime": {
     "start_time": "2023-10-20T20:53:24.753594500Z"
    }
   },
   "outputs": [],
   "source": [
    "''' \n",
    "    B:      Excavation width (m)\n",
    "    H:      Excavation height (m)\n",
    "    q:      Uniform surcharge at GS (kPa)\n",
    "    Rint:   Interface strength reduction factor\n",
    "    Gamma:  Soil unit weight (kN/cu.m)\n",
    "    Su:     Undrained shear strength (kPa)\n",
    "    \n",
    "case_input = [B (m), H (m), q (kPa), Rint, Gamma (kN/cu.m), Su (kPa)]\n",
    "'''\n",
    "\n",
    "no_of_curve_points = 50\n",
    "B = 5\n",
    "H = 10\n",
    "q = 20\n",
    "Rint = 1\n",
    "Gamma = 19\n",
    "su = range(0, no_of_curve_points, 1)  # Changed the step size to 1\n",
    "\n",
    "cases = []\n",
    "for i in su:\n",
    "    cases.append([B, H, q, Rint, Gamma, i])\n",
    "\n",
    "for each_case in cases:\n",
    "    y_pred_MLR = MLR_model(torch.Tensor(each_case))    \n",
    "    print(float(min(y_pred_MLR.detach())))\n",
    "    Avg_FoS = float(np.average(y_pred_MLR.detach()))\n",
    "    print('Avg FoS: ', Avg_FoS)  # Print the average factor of safety"
   ]
  },
  {
   "cell_type": "code",
   "execution_count": null,
   "id": "ddfc08335a36031d",
   "metadata": {
    "collapsed": false,
    "ExecuteTime": {
     "start_time": "2023-10-20T20:53:24.755592500Z"
    }
   },
   "outputs": [],
   "source": []
  }
 ],
 "metadata": {
  "kernelspec": {
   "display_name": "Python 3",
   "language": "python",
   "name": "python3"
  },
  "language_info": {
   "codemirror_mode": {
    "name": "ipython",
    "version": 2
   },
   "file_extension": ".py",
   "mimetype": "text/x-python",
   "name": "python",
   "nbconvert_exporter": "python",
   "pygments_lexer": "ipython2",
   "version": "2.7.6"
  }
 },
 "nbformat": 4,
 "nbformat_minor": 5
}
