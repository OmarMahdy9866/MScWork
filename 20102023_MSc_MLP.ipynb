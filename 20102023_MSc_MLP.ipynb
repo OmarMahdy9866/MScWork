{
 "cells": [
  {
   "cell_type": "code",
   "execution_count": 281,
   "id": "initial_id",
   "metadata": {
    "collapsed": true,
    "ExecuteTime": {
     "end_time": "2023-10-20T18:02:45.108679900Z",
     "start_time": "2023-10-20T18:02:45.050031200Z"
    }
   },
   "outputs": [
    {
     "data": {
      "text/plain": "'2.1.0+cpu'"
     },
     "execution_count": 281,
     "metadata": {},
     "output_type": "execute_result"
    }
   ],
   "source": [
    "# Importing PyTorch\n",
    "import torch\n",
    "torch.version.__version__"
   ]
  },
  {
   "cell_type": "markdown",
   "source": [
    "# Loading training & testing dataset"
   ],
   "metadata": {
    "collapsed": false
   },
   "id": "dbb36ee516ca7af6"
  },
  {
   "cell_type": "code",
   "execution_count": 282,
   "outputs": [
    {
     "data": {
      "text/plain": "   H   B   q  R_int  gamma  Su  sf_lower  sf_upper\n0  8   4  10    0.6     18  25     1.041     1.087\n1  8   4  10    0.8     18  25     1.044     1.087\n2  6  20  20    0.8     18  25     1.045     1.080\n3  6  20  20    0.6     18  25     1.047     1.080\n4  6  20  20    1.0     18  25     1.048     1.080",
      "text/html": "<div>\n<style scoped>\n    .dataframe tbody tr th:only-of-type {\n        vertical-align: middle;\n    }\n\n    .dataframe tbody tr th {\n        vertical-align: top;\n    }\n\n    .dataframe thead th {\n        text-align: right;\n    }\n</style>\n<table border=\"1\" class=\"dataframe\">\n  <thead>\n    <tr style=\"text-align: right;\">\n      <th></th>\n      <th>H</th>\n      <th>B</th>\n      <th>q</th>\n      <th>R_int</th>\n      <th>gamma</th>\n      <th>Su</th>\n      <th>sf_lower</th>\n      <th>sf_upper</th>\n    </tr>\n  </thead>\n  <tbody>\n    <tr>\n      <th>0</th>\n      <td>8</td>\n      <td>4</td>\n      <td>10</td>\n      <td>0.6</td>\n      <td>18</td>\n      <td>25</td>\n      <td>1.041</td>\n      <td>1.087</td>\n    </tr>\n    <tr>\n      <th>1</th>\n      <td>8</td>\n      <td>4</td>\n      <td>10</td>\n      <td>0.8</td>\n      <td>18</td>\n      <td>25</td>\n      <td>1.044</td>\n      <td>1.087</td>\n    </tr>\n    <tr>\n      <th>2</th>\n      <td>6</td>\n      <td>20</td>\n      <td>20</td>\n      <td>0.8</td>\n      <td>18</td>\n      <td>25</td>\n      <td>1.045</td>\n      <td>1.080</td>\n    </tr>\n    <tr>\n      <th>3</th>\n      <td>6</td>\n      <td>20</td>\n      <td>20</td>\n      <td>0.6</td>\n      <td>18</td>\n      <td>25</td>\n      <td>1.047</td>\n      <td>1.080</td>\n    </tr>\n    <tr>\n      <th>4</th>\n      <td>6</td>\n      <td>20</td>\n      <td>20</td>\n      <td>1.0</td>\n      <td>18</td>\n      <td>25</td>\n      <td>1.048</td>\n      <td>1.080</td>\n    </tr>\n  </tbody>\n</table>\n</div>"
     },
     "execution_count": 282,
     "metadata": {},
     "output_type": "execute_result"
    }
   ],
   "source": [
    "import pandas as pd  # Import the Pandas library for data manipulation.\n",
    "\n",
    "# Define the input file name as a variable for easy modification.\n",
    "input_file = 'output_results.csv'\n",
    "\n",
    "# Read the CSV data from the specified input file into a Pandas DataFrame.\n",
    "csv_data = pd.read_csv(input_file)\n",
    "\n",
    "# Display the first few rows of the DataFrame to inspect the data.\n",
    "csv_data.head()"
   ],
   "metadata": {
    "collapsed": false,
    "ExecuteTime": {
     "end_time": "2023-10-20T18:02:45.122683200Z",
     "start_time": "2023-10-20T18:02:45.057639400Z"
    }
   },
   "id": "d00bccb29d8a987e"
  },
  {
   "cell_type": "markdown",
   "source": [
    "# Defining MyDataset class"
   ],
   "metadata": {
    "collapsed": false
   },
   "id": "c2738b7bb2241051"
  },
  {
   "cell_type": "markdown",
   "source": [
    "## 1. Class definition"
   ],
   "metadata": {
    "collapsed": false
   },
   "id": "2dccbbfe0a5e1d45"
  },
  {
   "cell_type": "code",
   "execution_count": 283,
   "outputs": [],
   "source": [
    "from torch.utils.data import Dataset\n",
    "import numpy as np\n",
    "import math\n",
    "\n",
    "class MyDataset(Dataset):\n",
    "    \"\"\"\n",
    "    A custom PyTorch dataset for loading data from a CSV file and preparing it for training or testing.\n",
    "\n",
    "    Args:\n",
    "        file_name (str): The path to the CSV file containing the dataset.\n",
    "        train_test_ratio (float, optional): The ratio of the dataset to be used for training (default is 0.9).\n",
    "        test (bool, optional): If True, the dataset is prepared for testing; otherwise, it's prepared for training (default is False).\n",
    "\n",
    "    Attributes:\n",
    "        x_data (torch.Tensor): The input data.\n",
    "        y_data (torch.Tensor): The target data.\n",
    "\n",
    "    Methods:\n",
    "        __len__(): Returns the number of samples in the dataset.\n",
    "        __getitem__(idx): Returns the input and target data for a specific index.\n",
    "    \"\"\"\n",
    "\n",
    "    def __init__(self, file_name, train_test_ratio=0.95, test=False):\n",
    "        \"\"\"\n",
    "        Initializes the MyDataset with data from a CSV file.\n",
    "\n",
    "        Args:\n",
    "            file_name (str): The path to the CSV file containing the dataset.\n",
    "            train_test_ratio (float, optional): The ratio of the dataset to be used for training (default is 0.9).\n",
    "            test (bool, optional): If True, the dataset is prepared for testing; otherwise, it's prepared for training (default is False).\n",
    "        \"\"\"\n",
    "        _df = pd.read_csv(file_name)\n",
    "\n",
    "        if test:\n",
    "            data_len = math.floor((1 - train_test_ratio) * len(_df.iloc[:, 0]))\n",
    "        else:\n",
    "            data_len = math.floor(train_test_ratio * len(_df.iloc[:, 0]))\n",
    "\n",
    "        x = _df.iloc[:data_len, :-2].values\n",
    "        y = _df.iloc[:data_len, -2:].values\n",
    "\n",
    "        self.x_data = torch.tensor(x, dtype=torch.float32)\n",
    "        self.y_data = torch.tensor(y, dtype=torch.float32)\n",
    "\n",
    "    def __len__(self):\n",
    "        return np.shape(self.y_data)[0]\n",
    "\n",
    "    def __getitem__(self, idx):\n",
    "        return self.x_data[idx], self.y_data[idx]"
   ],
   "metadata": {
    "collapsed": false,
    "ExecuteTime": {
     "end_time": "2023-10-20T18:02:45.185697700Z",
     "start_time": "2023-10-20T18:02:45.068077Z"
    }
   },
   "id": "7464ea69ecd596bf"
  },
  {
   "cell_type": "markdown",
   "source": [
    "## 2. MyDataset class implementation"
   ],
   "metadata": {
    "collapsed": false
   },
   "id": "2c962857e018270b"
  },
  {
   "cell_type": "code",
   "execution_count": 284,
   "outputs": [],
   "source": [
    "# Create a training dataset from the input CSV file.\n",
    "train_dataset = MyDataset(input_file)\n",
    "\n",
    "# Create a testing dataset from the input CSV file.\n",
    "test_dataset = MyDataset(input_file, test=True)"
   ],
   "metadata": {
    "collapsed": false,
    "ExecuteTime": {
     "end_time": "2023-10-20T18:02:45.187697900Z",
     "start_time": "2023-10-20T18:02:45.070582Z"
    }
   },
   "id": "c5000dbf6d77f99c"
  },
  {
   "cell_type": "markdown",
   "source": [
    "**Hyperparameters:**\n",
    "\n",
    "- Number of training epochs: `EPOCH = 10`\n",
    "- Batch size for mini-batch gradient descent: `BATCH_SIZE = 10`\n",
    "- Learning rate for the optimization algorithm (e.g., stochastic gradient descent): `LR = 0.001`\n"
   ],
   "metadata": {
    "collapsed": false
   },
   "id": "26cf6d81c9cc0f55"
  },
  {
   "cell_type": "code",
   "execution_count": 285,
   "outputs": [],
   "source": [
    "# Explanation:\n",
    "# - PyTorch uses random numbers in various operations, such as weight initialization, data shuffling, and more.\n",
    "# - By setting the random seed to a specific value (in this case, 1), we ensure that the same random numbers are generated every time we run the code.\n",
    "# - This is important for reproducibility, which means getting the same results each time you run the code.\n",
    "# - Reproducibility is crucial in machine learning and deep learning to validate and compare results.\n",
    "\n",
    "# Note: Setting the random seed to 1 is just an example. You can choose any integer value for reproducibility.\n",
    "torch.manual_seed(1)  # Reproducible\n",
    "\n",
    "# Number of training epochs\n",
    "EPOCH = 10\n",
    "\n",
    "# Batch size for mini-batch gradient descent\n",
    "BATCH_SIZE = 10\n",
    "\n",
    "# Learning rate for the optimization algorithm (e.g., stochastic gradient descent)\n",
    "LR = 0.001"
   ],
   "metadata": {
    "collapsed": false,
    "ExecuteTime": {
     "end_time": "2023-10-20T18:02:45.189698Z",
     "start_time": "2023-10-20T18:02:45.076857200Z"
    }
   },
   "id": "afac10a2dc4547b5"
  },
  {
   "cell_type": "markdown",
   "source": [
    "**Data Loaders and Batch Information:**\n",
    "\n",
    "- Import the necessary DataLoader module from PyTorch to handle dataset loading.\n",
    "\n",
    "- Create a data loader for the training dataset with the following parameters:\n",
    "  - Batch size: `BATCH_SIZE`\n",
    "  - No shuffle.\n",
    "\n",
    "- Create a data loader for the test dataset with the same parameters as the training data loader.\n",
    "\n",
    "- To obtain a single batch of training data and labels, use the `next` function on an iterator created from `train_loader`.\n",
    "\n",
    "- Display the shape of the feature batch:\n",
    "  - `train_features.size()` returns the shape (dimensions) of the feature batch.\n",
    "\n",
    "- Display the shape of the label batch:\n",
    "  - `train_labels.size()` returns the shape (dimensions) of the label batch.\n"
   ],
   "metadata": {
    "collapsed": false
   },
   "id": "3d818ed21eab4807"
  },
  {
   "cell_type": "code",
   "execution_count": 286,
   "outputs": [
    {
     "name": "stdout",
     "output_type": "stream",
     "text": [
      "Feature batch shape: torch.Size([10, 6])\n",
      "Labels batch shape: torch.Size([10, 2])\n"
     ]
    }
   ],
   "source": [
    "from torch.utils.data import DataLoader\n",
    "\n",
    "# Create a data loader for the training dataset\n",
    "train_loader = DataLoader(train_dataset, batch_size=BATCH_SIZE, shuffle=False)\n",
    "\n",
    "# Create a data loader for the test dataset\n",
    "test_loader = DataLoader(test_dataset, batch_size=BATCH_SIZE, shuffle=False)\n",
    "\n",
    "# Obtain a single batch of training data and labels using the `train_loader`.\n",
    "# This is done by using the `next` function on an iterator created from `train_loader`.\n",
    "train_features, train_labels = next(iter(train_loader))\n",
    "\n",
    "# Print the shape of the feature batch.\n",
    "# `train_features.size()` returns the shape (dimensions) of the feature batch.\n",
    "print(f\"Feature batch shape: {train_features.size()}\")\n",
    "\n",
    "# Print the shape of the label batch.\n",
    "# `train_labels.size()` returns the shape (dimensions) of the label batch.\n",
    "print(f\"Labels batch shape: {train_labels.size()}\")"
   ],
   "metadata": {
    "collapsed": false,
    "ExecuteTime": {
     "end_time": "2023-10-20T18:02:45.201701100Z",
     "start_time": "2023-10-20T18:02:45.081840300Z"
    }
   },
   "id": "7ff0d3a2eadf153b"
  },
  {
   "cell_type": "markdown",
   "source": [
    "### Multiple Linear Regression Neural Network\n",
    "\n",
    "Defines a PyTorch neural network module for multiple linear regression. The neural network consists of three fully connected layers, and the docstring provides a detailed explanation of its structure and usage."
   ],
   "metadata": {
    "collapsed": false
   },
   "id": "62c824695773fbba"
  },
  {
   "cell_type": "code",
   "execution_count": 287,
   "outputs": [],
   "source": [
    "import torch as T\n",
    "import torch.nn as nn\n",
    "\n",
    "class MultipleLinearRegression(nn.Module):\n",
    "    \"\"\"\n",
    "    A PyTorch module representing a multiple linear regression neural network.\n",
    "\n",
    "    This neural network consists of three fully connected layers: hid1, hid2, and oupt.\n",
    "    The hid1 layer takes the input features and passes them through 6 units with a sigmoid activation.\n",
    "    The hid2 layer processes the hid1 output through 6 units with a sigmoid activation.\n",
    "    The oupt layer provides the final output based on the hid2 activations with no activation applied.\n",
    "\n",
    "    Parameters:\n",
    "    - input (int): Number of input features. Default is 6.\n",
    "    - output (int): Number of output units. Default is 2.\n",
    "\n",
    "    Attributes:\n",
    "    - hid1 (nn.Linear): First hidden layer with 6 units and a sigmoid activation.\n",
    "    - hid2 (nn.Linear): Second hidden layer with 6 units and a sigmoid activation.\n",
    "    - oupt (nn.Linear): Output layer with 'output' units and no activation.\n",
    "\n",
    "    Methods:\n",
    "    - forward(x): Defines the forward pass of the neural network.\n",
    "      Args:\n",
    "        x (torch.Tensor): Input tensor.\n",
    "      Returns:\n",
    "        torch.Tensor: Output tensor.\n",
    "\n",
    "    Example usage:\n",
    "    ```\n",
    "    model = MultipleLinearRegression(input=6, output=2)\n",
    "    output = model(input_tensor)\n",
    "    ```\n",
    "    \"\"\"\n",
    "\n",
    "    def __init__(self, input=6, output=2):\n",
    "        super(MultipleLinearRegression, self).__init__()\n",
    "        # Define the layers of the neural network.\n",
    "        # Three fully connected layers are used: hid1, hid2, and oupt.\n",
    "        self.hid1 = nn.Linear(input, 6)  # Layer with 6 units, input features to 6 units.\n",
    "        self.hid2 = nn.Linear(6, 6)     # Layer with 6 units, 6 units to 6 units.\n",
    "        self.oupt = nn.Linear(6, output)  # Output layer, 6 units to 'output' units.\n",
    "\n",
    "        # Initialize the weights and biases of each layer.\n",
    "        nn.init.xavier_uniform_(self.hid1.weight)  # Xavier initialization of weights for hid1.\n",
    "        nn.init.zeros_(self.hid1.bias)            # Initialize biases of hid1 to zeros.\n",
    "        nn.init.xavier_uniform_(self.hid2.weight)  # Xavier initialization of weights for hid2.\n",
    "        nn.init.zeros_(self.hid2.bias)            # Initialize biases of hid2 to zeros.\n",
    "        nn.init.xavier_uniform_(self.oupt.weight)  # Xavier initialization of weights for oupt.\n",
    "        nn.init.zeros_(self.oupt.bias)            # Initialize biases of oupt to zeros.\n",
    "\n",
    "    def forward(self, x):\n",
    "        \"\"\"\n",
    "        Defines the forward pass of the neural network.\n",
    "\n",
    "        Args:\n",
    "        - x (torch.Tensor): Input tensor.\n",
    "\n",
    "        Returns:\n",
    "        - torch.Tensor: Output tensor.\n",
    "        \"\"\"\n",
    "        # Apply the sigmoid activation function to the hidden layers 'hid1' and 'hid2'.\n",
    "        z = T.sigmoid(self.hid1(x))\n",
    "        z = T.sigmoid(self.hid2(z))\n",
    "\n",
    "        # The output layer 'oupt' does not apply an activation function (linear layer).\n",
    "        z = self.oupt(z)  # no activation\n",
    "\n",
    "        return z"
   ],
   "metadata": {
    "collapsed": false,
    "ExecuteTime": {
     "end_time": "2023-10-20T18:02:45.202701500Z",
     "start_time": "2023-10-20T18:02:45.084806Z"
    }
   },
   "id": "5df4548818a46476"
  },
  {
   "cell_type": "markdown",
   "source": [
    "### Initialize the Multiple Linear Regression (MLR) Model\n",
    "\n",
    "An instance of the Multiple Linear Regression (MLR) model is created and its parameters are printed. The MLR model is designed for regression tasks, and in this instance, it is configured with 6 input features and is expected to produce 2 output values.\n"
   ],
   "metadata": {
    "collapsed": false
   },
   "id": "8bcf6998ef19e73"
  },
  {
   "cell_type": "code",
   "execution_count": 288,
   "outputs": [
    {
     "name": "stdout",
     "output_type": "stream",
     "text": [
      "The parameters:  [Parameter containing:\n",
      "tensor([[ 0.6476, -0.1308,  0.3987,  0.3062, -0.4571, -0.6013],\n",
      "        [ 0.6787,  0.0369,  0.4847,  0.1465,  0.2274,  0.5282],\n",
      "        [ 0.6705, -0.4692,  0.0884,  0.5277,  0.5123,  0.4393],\n",
      "        [-0.5117, -0.5092, -0.4276,  0.0888,  0.7047, -0.4467],\n",
      "        [ 0.3768, -0.3914, -0.6648, -0.1503,  0.4074,  0.6565],\n",
      "        [-0.4391,  0.1535,  0.6101,  0.4686,  0.4407,  0.5025]],\n",
      "       requires_grad=True), Parameter containing:\n",
      "tensor([0., 0., 0., 0., 0., 0.], requires_grad=True), Parameter containing:\n",
      "tensor([[ 0.4473,  0.1826, -0.4835, -0.5938, -0.3240, -0.0823],\n",
      "        [-0.4334,  0.2587,  0.2188, -0.1601,  0.2718,  0.2285],\n",
      "        [ 0.4317,  0.4762, -0.2395,  0.6909, -0.0817, -0.0243],\n",
      "        [-0.6674, -0.4551, -0.4131, -0.3024,  0.5027, -0.2311],\n",
      "        [-0.5284,  0.2721,  0.2264,  0.4580, -0.3659,  0.1533],\n",
      "        [-0.2574, -0.1589, -0.5635, -0.3223, -0.2166,  0.3024]],\n",
      "       requires_grad=True), Parameter containing:\n",
      "tensor([0., 0., 0., 0., 0., 0.], requires_grad=True), Parameter containing:\n",
      "tensor([[ 0.1582,  0.2139,  0.8644,  0.8441,  0.5907,  0.0276],\n",
      "        [-0.5991,  0.6768, -0.2166, -0.0700, -0.7461, -0.1711]],\n",
      "       requires_grad=True), Parameter containing:\n",
      "tensor([0., 0.], requires_grad=True)]\n"
     ]
    }
   ],
   "source": [
    "# Create an instance of the MultipleLinearRegression model with 6 input features and 2 output units.\n",
    "MLR_model = MultipleLinearRegression(input=6, output=2)\n",
    "\n",
    "# Print the parameters of the MLR model.\n",
    "print(\"The parameters: \", list(MLR_model.parameters()))"
   ],
   "metadata": {
    "collapsed": false,
    "ExecuteTime": {
     "end_time": "2023-10-20T18:02:45.204701600Z",
     "start_time": "2023-10-20T18:02:45.092450800Z"
    }
   },
   "id": "655857979ef2f3ae"
  },
  {
   "cell_type": "markdown",
   "source": [
    "# Model Optimization and Loss Definition\n",
    "\n",
    "In this section, the model optimizer is selected, and the loss criterion for training the Multiple Linear Regression model is defined.\n",
    "\n",
    "## Model Optimizer\n",
    "We use the AdamW optimizer to update the model parameters during training. The learning rate (LR) determines the step size for parameter updates."
   ],
   "metadata": {
    "collapsed": false
   },
   "id": "9260b10bfb223ff5"
  },
  {
   "cell_type": "code",
   "execution_count": 289,
   "outputs": [],
   "source": [
    "optimizer = torch.optim.AdamW(MLR_model.parameters(), lr=LR)"
   ],
   "metadata": {
    "collapsed": false,
    "ExecuteTime": {
     "end_time": "2023-10-20T18:02:45.214704Z",
     "start_time": "2023-10-20T18:02:45.097175300Z"
    }
   },
   "id": "14dae56105a05687"
  },
  {
   "cell_type": "code",
   "execution_count": 290,
   "outputs": [],
   "source": [
    "# Define the Mean Squared Error (MSE) loss criterion\n",
    "criterion = torch.nn.MSELoss()"
   ],
   "metadata": {
    "collapsed": false,
    "ExecuteTime": {
     "end_time": "2023-10-20T18:02:45.215704600Z",
     "start_time": "2023-10-20T18:02:45.099694100Z"
    }
   },
   "id": "48c1cfc3a08776fb"
  },
  {
   "cell_type": "markdown",
   "source": [
    "# Model Prediction Check (Before Training)\n",
    "\n",
    "In this section, we check the model's ability to make predictions before any training has occurred. This is often referred to as a \"sanity check\" to ensure the model is functional.\n",
    "\n",
    "## Model Prediction\n",
    "We provide a sample input tensor `x` to the Multiple Linear Regression (MLR) model and evaluate its prediction. Please note that at this stage, the model has not undergone any training.\n"
   ],
   "metadata": {
    "collapsed": false
   },
   "id": "564034c92c2bb88b"
  },
  {
   "cell_type": "code",
   "execution_count": 291,
   "outputs": [
    {
     "name": "stdout",
     "output_type": "stream",
     "text": [
      "tensor([ 1.3146, -0.3314], grad_fn=<ViewBackward0>)\n"
     ]
    }
   ],
   "source": [
    "# Check the model gives data (NO TRAINING YET)\n",
    "x = torch.tensor([8, 6, 10, 1.0, 16, 100])\n",
    "y_pred = MLR_model(x)\n",
    "print(y_pred)"
   ],
   "metadata": {
    "collapsed": false,
    "ExecuteTime": {
     "end_time": "2023-10-20T18:02:45.240824100Z",
     "start_time": "2023-10-20T18:02:45.103143400Z"
    }
   },
   "id": "809ad0813ed69a1c"
  },
  {
   "cell_type": "markdown",
   "source": [
    "# Model Training Loop\n",
    "\n",
    "In this section, we define the training loop for the Multiple Linear Regression (MLR) model. The training process involves multiple epochs, where the model learns from the training data to optimize its parameters and reduce the loss."
   ],
   "metadata": {
    "collapsed": false
   },
   "id": "8855654381dd7061"
  },
  {
   "cell_type": "code",
   "execution_count": 292,
   "outputs": [
    {
     "name": "stdout",
     "output_type": "stream",
     "text": [
      "Epoch [1/10], Step [10/16], Loss: 1.2568\n",
      "Epoch [2/10], Step [10/16], Loss: 1.1020\n",
      "Epoch [3/10], Step [10/16], Loss: 0.9673\n",
      "Epoch [4/10], Step [10/16], Loss: 0.8492\n",
      "Epoch [5/10], Step [10/16], Loss: 0.7457\n",
      "Epoch [6/10], Step [10/16], Loss: 0.6548\n",
      "Epoch [7/10], Step [10/16], Loss: 0.5751\n",
      "Epoch [8/10], Step [10/16], Loss: 0.5048\n",
      "Epoch [9/10], Step [10/16], Loss: 0.4429\n",
      "Epoch [10/10], Step [10/16], Loss: 0.3882\n"
     ]
    }
   ],
   "source": [
    "t_losses = []\n",
    "for epoch in range(EPOCH):\n",
    "    for i, (inputs, targets) in enumerate(train_loader):\n",
    "        # Zero the gradients\n",
    "        optimizer.zero_grad()\n",
    "\n",
    "        # Forward pass\n",
    "        outputs = MLR_model(inputs)\n",
    "        loss = criterion(outputs, targets)\n",
    "        t_losses.append(loss.item())\n",
    "\n",
    "        # Backward pass and optimization\n",
    "        loss.backward()\n",
    "        optimizer.step()\n",
    "        # scheduler.step()\n",
    "\n",
    "        # Print training statistics\n",
    "        if (i + 1) % 10 == 0:\n",
    "            print(f'Epoch [{epoch + 1}/{EPOCH}], Step [{i + 1}/{len(train_loader)}], Loss: {loss.item():.4f}')\n"
   ],
   "metadata": {
    "collapsed": false,
    "ExecuteTime": {
     "end_time": "2023-10-20T18:02:45.315842100Z",
     "start_time": "2023-10-20T18:02:45.110680900Z"
    }
   },
   "id": "44f33a3d2911e3ba"
  },
  {
   "cell_type": "markdown",
   "source": [
    "# Model Evaluation on Test Data\n",
    "\n",
    "In this section, we evaluate the trained MLR model on the test dataset and calculate the test loss to assess the model's performance."
   ],
   "metadata": {
    "collapsed": false
   },
   "id": "a460d7d9d2ade25e"
  },
  {
   "cell_type": "code",
   "execution_count": 293,
   "outputs": [
    {
     "name": "stdout",
     "output_type": "stream",
     "text": [
      "Test Loss: 0.2135\n"
     ]
    }
   ],
   "source": [
    "# Evaluate the model on the test data\n",
    "with torch.no_grad():\n",
    "    total_loss = 0\n",
    "    \n",
    "    # Iterate over batches in the test loader\n",
    "    for inputs, targets in test_loader:\n",
    "        outputs = MLR_model(inputs)  # Forward pass to get model predictions\n",
    "        loss = criterion(outputs, targets)  # Calculate the loss\n",
    "        \n",
    "        total_loss += loss.item()  # Accumulate the loss for all batches\n",
    "    \n",
    "    mean_loss = total_loss / len(test_loader)  # Calculate the mean loss over all batches\n",
    "    print(f'Test Loss: {mean_loss:.4f}')"
   ],
   "metadata": {
    "collapsed": false,
    "ExecuteTime": {
     "end_time": "2023-10-20T18:02:45.316842100Z",
     "start_time": "2023-10-20T18:02:45.239247600Z"
    }
   },
   "id": "529056adbdc3cb28"
  },
  {
   "cell_type": "markdown",
   "source": [
    "# Plotting Training Losses\n",
    "\n",
    "In this section, we visualize the training progress by plotting the training losses. The loss values are plotted against the number of iterations, providing insight into the model's convergence during training."
   ],
   "metadata": {
    "collapsed": false
   },
   "id": "aecccf978b37a589"
  },
  {
   "cell_type": "code",
   "execution_count": 294,
   "outputs": [
    {
     "data": {
      "text/plain": "<Figure size 640x480 with 1 Axes>",
      "image/png": "[encoded data removed]"
     },
     "metadata": {},
     "output_type": "display_data"
    }
   ],
   "source": [
    "import matplotlib.pyplot as plt\n",
    "\n",
    "# Plot the training losses\n",
    "plt.plot(t_losses)\n",
    "plt.xlabel(\"No. of Iterations\")\n",
    "plt.ylabel(\"Total Loss\")\n",
    "plt.show()"
   ],
   "metadata": {
    "collapsed": false,
    "ExecuteTime": {
     "end_time": "2023-10-20T18:02:45.355207700Z",
     "start_time": "2023-10-20T18:02:45.242826Z"
    }
   },
   "id": "77e25dc5823a50df"
  },
  {
   "cell_type": "markdown",
   "source": [
    "# Testing the Model\n",
    "\n",
    "In this section, we evaluate the trained model by testing it on a set of case histories. The case histories include parameters and known outcomes for different locations.\n",
    "\n",
    "## Case Histories Parameters\n",
    "We define a list of case histories parameters, where each sub-list represents a location's specific parameters:\n",
    "\n",
    "```python\n",
    "cases = [\n",
    "    [2.4, 4.8, 15, 1, 19, 12],   # Fornebu, Oslo\n",
    "    [5, 5, 0, 1, 19, 16],       # Feria, Oslo\n",
    "    [11.3, 16, 0, 1, 19, 35]    # Chicago, USA\n",
    "]\n"
   ],
   "metadata": {
    "collapsed": false
   },
   "id": "88ea3ab88445cb6e"
  },
  {
   "cell_type": "code",
   "execution_count": 295,
   "outputs": [
    {
     "name": "stdout",
     "output_type": "stream",
     "text": [
      "Avg. FoS for case_0 is 0.8378476500511169\n",
      "Avg. FoS for case_1 is 0.8518533110618591\n",
      "Avg. FoS for case_2 is 0.837245762348175\n"
     ]
    }
   ],
   "source": [
    "# Testing the model\n",
    "\n",
    "# Case histories parameters\n",
    "# Input is on the form [B (m), H (m), q (kPa), Rint, Gamma (kN/cu.m), Su (kPa)]\n",
    "\n",
    "cases = [\n",
    "    [2.4, 4.8, 15, 1, 19, 12],  # Fornebu, Oslo\n",
    "    [5, 5, 0, 1, 19, 16],      # Feria, Oslo\n",
    "    [11.3, 16, 0, 1, 19, 35]   # Chicago, USA\n",
    "]\n",
    "\n",
    "\n",
    "# Case histories outcomes\n",
    "cases_op = [\n",
    "    [1.03, 1.11, 0.97, 1.05],  # Fornebu, Oslo\n",
    "    [1.02, 1.26, 1.03, 1.1],  # Feria, Oslo\n",
    "    [1, 1.11, 0.95, 1]        # Chicago, USA\n",
    "]\n",
    "\n",
    "for i, each_case in enumerate(cases):\n",
    "    y_pred_MLR = MLR_model(torch.Tensor(each_case))\n",
    "    val = float(np.average(y_pred_MLR.detach()))\n",
    "    cases_op[i].append(val)\n",
    "    print(f'Avg. FoS for case_{i} is {val}')"
   ],
   "metadata": {
    "collapsed": false,
    "ExecuteTime": {
     "end_time": "2023-10-20T18:02:45.356208100Z",
     "start_time": "2023-10-20T18:02:45.324914600Z"
    }
   },
   "id": "79f485e3d16d0486"
  },
  {
   "cell_type": "code",
   "execution_count": 296,
   "outputs": [
    {
     "data": {
      "text/plain": "<Figure size 640x550 with 1 Axes>",
      "image/png": "[encoded data removed]"
     },
     "metadata": {},
     "output_type": "display_data"
    }
   ],
   "source": [
    "import numpy as np\n",
    "import matplotlib.pyplot as plt\n",
    "\n",
    "species = ('Fornebu, Oslo', 'Feria, Oslo', 'Chicago, USA')\n",
    "\n",
    "means = {\n",
    "    \"Eide's (1956)\": [],\n",
    "    \"Terzaghi (1943)\": [],\n",
    "    \"Simplified UBLA\": [],\n",
    "    \"Modified Terzaghi\": [],\n",
    "    \"FELA-FNN\": []\n",
    "}\n",
    "\n",
    "# Assuming you have 'cases_op' defined elsewhere\n",
    "\n",
    "for i, items in enumerate(means.items()):\n",
    "    means[items[0]] += ([x[i] for x in cases_op])\n",
    "\n",
    "x = np.arange(len(species))  # the label locations\n",
    "width = 0.1  # the width of the bars\n",
    "multiplier = 0\n",
    "\n",
    "fig, ax = plt.subplots(figsize=(6.4, 5.5))\n",
    "\n",
    "for attribute, measurement in means.items():\n",
    "    offset = width * multiplier\n",
    "    rects = ax.bar(x + offset, measurement, width, label=attribute)\n",
    "    multiplier += 1\n",
    "\n",
    "# Add some text for labels, title, and custom x-axis tick labels, etc.\n",
    "ax.set_ylabel('FoS')\n",
    "\n",
    "# Set y-axis limits\n",
    "ax.set_ylim(0.5,1.5)\n",
    "\n",
    "# Adjust the x-axis tick positions and labels\n",
    "new_x = x + width * (len(means) - 1) / 2\n",
    "ax.set_xticks(new_x)\n",
    "ax.set_xticklabels(species, rotation=0, ha='center', fontsize=8, fontweight='bold')  # Adjust 'ha' to 'center'\n",
    "\n",
    "# Adjust the legend location to 'upper right' and specify the number of columns (ncols)\n",
    "legend = ax.legend(loc='upper right', ncols=1)\n",
    "\n",
    "# Set the transparency of the legend background to 50%\n",
    "legend.get_frame().set_alpha(0.5)\n",
    "\n",
    "ax.axhline(y=1, color='red', linestyle='--', label='Y = 1')\n",
    "\n",
    "# Set the chart title with a customizable font size\n",
    "chart_title = \"Comparison between the FoS predictions of different classical approaches and the FELA-FNN\"\n",
    "title_fontsize = 8  # You can adjust the font size as needed\n",
    "ax.set_title(chart_title, fontsize=title_fontsize, fontweight='bold')  # Make the title bold\n",
    "\n",
    "# Increase figure quality by adjusting the DPI\n",
    "plt.savefig('your_figure_600_2.png', dpi=600)  # You can adjust the filename and DPI as needed\n",
    "\n",
    "plt.show()"
   ],
   "metadata": {
    "collapsed": false,
    "ExecuteTime": {
     "end_time": "2023-10-20T18:02:46.189286800Z",
     "start_time": "2023-10-20T18:02:45.329202600Z"
    }
   },
   "id": "7efee78296036e22"
  },
  {
   "cell_type": "markdown",
   "source": [
    "## Plotting Su vs. FoS"
   ],
   "metadata": {
    "collapsed": false
   },
   "id": "bbfd2521e2dbcf56"
  },
  {
   "cell_type": "code",
   "execution_count": 297,
   "outputs": [
    {
     "ename": "TypeError",
     "evalue": "min() received an invalid combination of arguments - got (axis=NoneType, out=NoneType, ), but expected one of:\n * ()\n * (Tensor other)\n * (int dim, bool keepdim)\n      didn't match because some of the keywords were incorrect: axis, out\n * (name dim, bool keepdim)\n      didn't match because some of the keywords were incorrect: axis, out\n",
     "output_type": "error",
     "traceback": [
      "\u001B[1;31m---------------------------------------------------------------------------\u001B[0m",
      "\u001B[1;31mTypeError\u001B[0m                                 Traceback (most recent call last)",
      "Cell \u001B[1;32mIn[297], line 29\u001B[0m\n\u001B[0;32m     27\u001B[0m \u001B[38;5;28;01mfor\u001B[39;00m each_case \u001B[38;5;129;01min\u001B[39;00m cases:\n\u001B[0;32m     28\u001B[0m     y_pred_MLR \u001B[38;5;241m=\u001B[39m MLR_model(torch\u001B[38;5;241m.\u001B[39mTensor(each_case))    \n\u001B[1;32m---> 29\u001B[0m     LB_FoS \u001B[38;5;241m=\u001B[39m \u001B[38;5;28mfloat\u001B[39m(\u001B[43mnp\u001B[49m\u001B[38;5;241;43m.\u001B[39;49m\u001B[43mmin\u001B[49m\u001B[43m(\u001B[49m\u001B[43my_pred_MLR\u001B[49m\u001B[38;5;241;43m.\u001B[39;49m\u001B[43mdetach\u001B[49m\u001B[43m(\u001B[49m\u001B[43m)\u001B[49m\u001B[43m)\u001B[49m)\n\u001B[0;32m     30\u001B[0m     \u001B[38;5;28mprint\u001B[39m(\u001B[38;5;124m'\u001B[39m\u001B[38;5;124mLB FoS: \u001B[39m\u001B[38;5;124m'\u001B[39m, LB_FoS)\n\u001B[0;32m     31\u001B[0m     UB_FoS \u001B[38;5;241m=\u001B[39m \u001B[38;5;28mfloat\u001B[39m(np\u001B[38;5;241m.\u001B[39mmin(y_pred_MLR\u001B[38;5;241m.\u001B[39mdetach()))\n",
      "File \u001B[1;32m~\\PycharmProjects\\MScWork\\venv\\Lib\\site-packages\\numpy\\core\\fromnumeric.py:2953\u001B[0m, in \u001B[0;36mmin\u001B[1;34m(a, axis, out, keepdims, initial, where)\u001B[0m\n\u001B[0;32m   2836\u001B[0m \u001B[38;5;129m@array_function_dispatch\u001B[39m(_min_dispatcher)\n\u001B[0;32m   2837\u001B[0m \u001B[38;5;28;01mdef\u001B[39;00m \u001B[38;5;21mmin\u001B[39m(a, axis\u001B[38;5;241m=\u001B[39m\u001B[38;5;28;01mNone\u001B[39;00m, out\u001B[38;5;241m=\u001B[39m\u001B[38;5;28;01mNone\u001B[39;00m, keepdims\u001B[38;5;241m=\u001B[39mnp\u001B[38;5;241m.\u001B[39m_NoValue, initial\u001B[38;5;241m=\u001B[39mnp\u001B[38;5;241m.\u001B[39m_NoValue,\n\u001B[0;32m   2838\u001B[0m         where\u001B[38;5;241m=\u001B[39mnp\u001B[38;5;241m.\u001B[39m_NoValue):\n\u001B[0;32m   2839\u001B[0m \u001B[38;5;250m    \u001B[39m\u001B[38;5;124;03m\"\"\"\u001B[39;00m\n\u001B[0;32m   2840\u001B[0m \u001B[38;5;124;03m    Return the minimum of an array or minimum along an axis.\u001B[39;00m\n\u001B[0;32m   2841\u001B[0m \n\u001B[1;32m   (...)\u001B[0m\n\u001B[0;32m   2951\u001B[0m \u001B[38;5;124;03m    6\u001B[39;00m\n\u001B[0;32m   2952\u001B[0m \u001B[38;5;124;03m    \"\"\"\u001B[39;00m\n\u001B[1;32m-> 2953\u001B[0m     \u001B[38;5;28;01mreturn\u001B[39;00m \u001B[43m_wrapreduction\u001B[49m\u001B[43m(\u001B[49m\u001B[43ma\u001B[49m\u001B[43m,\u001B[49m\u001B[43m \u001B[49m\u001B[43mnp\u001B[49m\u001B[38;5;241;43m.\u001B[39;49m\u001B[43mminimum\u001B[49m\u001B[43m,\u001B[49m\u001B[43m \u001B[49m\u001B[38;5;124;43m'\u001B[39;49m\u001B[38;5;124;43mmin\u001B[39;49m\u001B[38;5;124;43m'\u001B[39;49m\u001B[43m,\u001B[49m\u001B[43m \u001B[49m\u001B[43maxis\u001B[49m\u001B[43m,\u001B[49m\u001B[43m \u001B[49m\u001B[38;5;28;43;01mNone\u001B[39;49;00m\u001B[43m,\u001B[49m\u001B[43m \u001B[49m\u001B[43mout\u001B[49m\u001B[43m,\u001B[49m\n\u001B[0;32m   2954\u001B[0m \u001B[43m                          \u001B[49m\u001B[43mkeepdims\u001B[49m\u001B[38;5;241;43m=\u001B[39;49m\u001B[43mkeepdims\u001B[49m\u001B[43m,\u001B[49m\u001B[43m \u001B[49m\u001B[43minitial\u001B[49m\u001B[38;5;241;43m=\u001B[39;49m\u001B[43minitial\u001B[49m\u001B[43m,\u001B[49m\u001B[43m \u001B[49m\u001B[43mwhere\u001B[49m\u001B[38;5;241;43m=\u001B[39;49m\u001B[43mwhere\u001B[49m\u001B[43m)\u001B[49m\n",
      "File \u001B[1;32m~\\PycharmProjects\\MScWork\\venv\\Lib\\site-packages\\numpy\\core\\fromnumeric.py:86\u001B[0m, in \u001B[0;36m_wrapreduction\u001B[1;34m(obj, ufunc, method, axis, dtype, out, **kwargs)\u001B[0m\n\u001B[0;32m     84\u001B[0m             \u001B[38;5;28;01mreturn\u001B[39;00m reduction(axis\u001B[38;5;241m=\u001B[39maxis, dtype\u001B[38;5;241m=\u001B[39mdtype, out\u001B[38;5;241m=\u001B[39mout, \u001B[38;5;241m*\u001B[39m\u001B[38;5;241m*\u001B[39mpasskwargs)\n\u001B[0;32m     85\u001B[0m         \u001B[38;5;28;01melse\u001B[39;00m:\n\u001B[1;32m---> 86\u001B[0m             \u001B[38;5;28;01mreturn\u001B[39;00m \u001B[43mreduction\u001B[49m\u001B[43m(\u001B[49m\u001B[43maxis\u001B[49m\u001B[38;5;241;43m=\u001B[39;49m\u001B[43maxis\u001B[49m\u001B[43m,\u001B[49m\u001B[43m \u001B[49m\u001B[43mout\u001B[49m\u001B[38;5;241;43m=\u001B[39;49m\u001B[43mout\u001B[49m\u001B[43m,\u001B[49m\u001B[43m \u001B[49m\u001B[38;5;241;43m*\u001B[39;49m\u001B[38;5;241;43m*\u001B[39;49m\u001B[43mpasskwargs\u001B[49m\u001B[43m)\u001B[49m\n\u001B[0;32m     88\u001B[0m \u001B[38;5;28;01mreturn\u001B[39;00m ufunc\u001B[38;5;241m.\u001B[39mreduce(obj, axis, dtype, out, \u001B[38;5;241m*\u001B[39m\u001B[38;5;241m*\u001B[39mpasskwargs)\n",
      "\u001B[1;31mTypeError\u001B[0m: min() received an invalid combination of arguments - got (axis=NoneType, out=NoneType, ), but expected one of:\n * ()\n * (Tensor other)\n * (int dim, bool keepdim)\n      didn't match because some of the keywords were incorrect: axis, out\n * (name dim, bool keepdim)\n      didn't match because some of the keywords were incorrect: axis, out\n"
     ]
    }
   ],
   "source": [
    "''' \n",
    "    B:      Excavation width (m)\n",
    "    H:      Excavation height (m)\n",
    "    q:      Uniform surcharge at GS (kPa)\n",
    "    Rint:   Interface strength reduction factor\n",
    "    Gamma:  Soil unit weight (kN/cu.m)\n",
    "    Su:     Undrained shear strength (kPa)\n",
    "    \n",
    "case_input = [B (m), H (m), q (kPa), Rint, Gamma (kN/cu.m), Su (kPa)]\n",
    "y_pred_MLR = MLR_model(torch.Tensor(each_case))\n",
    "LB_FoS = float(np.min(y_pred_MLR.detach()))\n",
    "UB_FoS = float(np.max(y_pred_MLR.detach()))\n",
    "\n",
    "'''\n",
    "no_of_curve_points = 50\n",
    "B = 5\n",
    "H = 10\n",
    "q = 20\n",
    "Rint = 1\n",
    "Gamma = 19\n",
    "su = range(0, no_of_curve_points, 1)  # Changed the step size to 1\n",
    "\n",
    "cases = []\n",
    "for i in su:\n",
    "    cases.append([B, H, q, Rint, Gamma, i])\n",
    "\n",
    "for each_case in cases:\n",
    "    y_pred_MLR = MLR_model(torch.Tensor(each_case))    \n",
    "    LB_FoS = float(np.min(y_pred_MLR.detach()))\n",
    "    print('LB FoS: ', LB_FoS)\n",
    "    UB_FoS = float(np.min(y_pred_MLR.detach()))\n",
    "    print('UB FoS: ',UB_FoS)\n",
    "    Avg_FoS = float(np.average(y_pred_MLR.detach()))\n",
    "    print(Avg_FoS)\n",
    "    "
   ],
   "metadata": {
    "collapsed": false,
    "ExecuteTime": {
     "end_time": "2023-10-20T18:02:46.251500700Z",
     "start_time": "2023-10-20T18:02:46.189286800Z"
    }
   },
   "id": "947e449f652c01ee"
  },
  {
   "cell_type": "code",
   "execution_count": null,
   "outputs": [],
   "source": [
    "#cases\n",
    "print('Nahh')"
   ],
   "metadata": {
    "collapsed": false,
    "ExecuteTime": {
     "start_time": "2023-10-20T18:02:46.214675700Z"
    }
   },
   "id": "abe438dbf0995847"
  },
  {
   "cell_type": "code",
   "execution_count": null,
   "outputs": [],
   "source": [
    "''' \n",
    "    B:      Excavation width (m)\n",
    "    H:      Excavation height (m)\n",
    "    q:      Uniform surcharge at GS (kPa)\n",
    "    Rint:   Interface strength reduction factor\n",
    "    Gamma:  Soil unit weight (kN/cu.m)\n",
    "    Su:     Undrained shear strength (kPa)\n",
    "    \n",
    "case_input = [B (m), H (m), q (kPa), Rint, Gamma (kN/cu.m), Su (kPa)]\n",
    "'''\n",
    "\n",
    "no_of_curve_points = 50\n",
    "B = 5\n",
    "H = 10\n",
    "q = 20\n",
    "Rint = 1\n",
    "Gamma = 19\n",
    "su = range(0, no_of_curve_points, 1)  # Changed the step size to 1\n",
    "\n",
    "cases = []\n",
    "for i in su:\n",
    "    cases.append([B, H, q, Rint, Gamma, i])\n",
    "\n",
    "for each_case in cases:\n",
    "    y_pred_MLR = MLR_model(torch.Tensor(each_case))    \n",
    "    print(float(min(y_pred_MLR.detach())))\n",
    "    Avg_FoS = float(np.average(y_pred_MLR.detach()))\n",
    "    print('Avg FoS: ', Avg_FoS)  # Print the average factor of safety"
   ],
   "metadata": {
    "collapsed": false,
    "ExecuteTime": {
     "start_time": "2023-10-20T18:02:46.216676200Z"
    }
   },
   "id": "a007754b206a1883"
  },
  {
   "cell_type": "code",
   "execution_count": null,
   "outputs": [],
   "source": [],
   "metadata": {
    "collapsed": false,
    "ExecuteTime": {
     "start_time": "2023-10-20T18:02:46.217676600Z"
    }
   },
   "id": "ddfc08335a36031d"
  }
 ],
 "metadata": {
  "kernelspec": {
   "display_name": "Python 3",
   "language": "python",
   "name": "python3"
  },
  "language_info": {
   "codemirror_mode": {
    "name": "ipython",
    "version": 2
   },
   "file_extension": ".py",
   "mimetype": "text/x-python",
   "name": "python",
   "nbconvert_exporter": "python",
   "pygments_lexer": "ipython2",
   "version": "2.7.6"
  }
 },
 "nbformat": 4,
 "nbformat_minor": 5
}
