{
 "cells": [
  {
   "cell_type": "code",
   "execution_count": 326,
   "id": "initial_id",
   "metadata": {
    "collapsed": true,
    "ExecuteTime": {
     "end_time": "2023-10-20T20:04:27.085478500Z",
     "start_time": "2023-10-20T20:04:27.020232700Z"
    }
   },
   "outputs": [
    {
     "data": {
      "text/plain": "'2.1.0+cpu'"
     },
     "execution_count": 326,
     "metadata": {},
     "output_type": "execute_result"
    }
   ],
   "source": [
    "# Importing PyTorch\n",
    "import torch\n",
    "torch.version.__version__"
   ]
  },
  {
   "cell_type": "markdown",
   "source": [
    "# Loading training & testing dataset"
   ],
   "metadata": {
    "collapsed": false
   },
   "id": "dbb36ee516ca7af6"
  },
  {
   "cell_type": "code",
   "execution_count": 327,
   "outputs": [
    {
     "data": {
      "text/plain": "   H   B   q  R_int  gamma  Su  sf_lower  sf_upper\n0  8   4  10    0.6     18  25     1.041     1.087\n1  8   4  10    0.8     18  25     1.044     1.087\n2  6  20  20    0.8     18  25     1.045     1.080\n3  6  20  20    0.6     18  25     1.047     1.080\n4  6  20  20    1.0     18  25     1.048     1.080",
      "text/html": "<div>\n<style scoped>\n    .dataframe tbody tr th:only-of-type {\n        vertical-align: middle;\n    }\n\n    .dataframe tbody tr th {\n        vertical-align: top;\n    }\n\n    .dataframe thead th {\n        text-align: right;\n    }\n</style>\n<table border=\"1\" class=\"dataframe\">\n  <thead>\n    <tr style=\"text-align: right;\">\n      <th></th>\n      <th>H</th>\n      <th>B</th>\n      <th>q</th>\n      <th>R_int</th>\n      <th>gamma</th>\n      <th>Su</th>\n      <th>sf_lower</th>\n      <th>sf_upper</th>\n    </tr>\n  </thead>\n  <tbody>\n    <tr>\n      <th>0</th>\n      <td>8</td>\n      <td>4</td>\n      <td>10</td>\n      <td>0.6</td>\n      <td>18</td>\n      <td>25</td>\n      <td>1.041</td>\n      <td>1.087</td>\n    </tr>\n    <tr>\n      <th>1</th>\n      <td>8</td>\n      <td>4</td>\n      <td>10</td>\n      <td>0.8</td>\n      <td>18</td>\n      <td>25</td>\n      <td>1.044</td>\n      <td>1.087</td>\n    </tr>\n    <tr>\n      <th>2</th>\n      <td>6</td>\n      <td>20</td>\n      <td>20</td>\n      <td>0.8</td>\n      <td>18</td>\n      <td>25</td>\n      <td>1.045</td>\n      <td>1.080</td>\n    </tr>\n    <tr>\n      <th>3</th>\n      <td>6</td>\n      <td>20</td>\n      <td>20</td>\n      <td>0.6</td>\n      <td>18</td>\n      <td>25</td>\n      <td>1.047</td>\n      <td>1.080</td>\n    </tr>\n    <tr>\n      <th>4</th>\n      <td>6</td>\n      <td>20</td>\n      <td>20</td>\n      <td>1.0</td>\n      <td>18</td>\n      <td>25</td>\n      <td>1.048</td>\n      <td>1.080</td>\n    </tr>\n  </tbody>\n</table>\n</div>"
     },
     "execution_count": 327,
     "metadata": {},
     "output_type": "execute_result"
    }
   ],
   "source": [
    "import pandas as pd  # Import the Pandas library for data manipulation.\n",
    "\n",
    "# Define the input file name as a variable for easy modification.\n",
    "input_file = 'output_results.csv'\n",
    "\n",
    "# Read the CSV data from the specified input file into a Pandas DataFrame.\n",
    "csv_data = pd.read_csv(input_file)\n",
    "\n",
    "# Display the first few rows of the DataFrame to inspect the data.\n",
    "csv_data.head()"
   ],
   "metadata": {
    "collapsed": false,
    "ExecuteTime": {
     "end_time": "2023-10-20T20:04:27.119424Z",
     "start_time": "2023-10-20T20:04:27.029528400Z"
    }
   },
   "id": "d00bccb29d8a987e"
  },
  {
   "cell_type": "markdown",
   "source": [
    "# Defining MyDataset class"
   ],
   "metadata": {
    "collapsed": false
   },
   "id": "c2738b7bb2241051"
  },
  {
   "cell_type": "markdown",
   "source": [
    "## 1. Class definition"
   ],
   "metadata": {
    "collapsed": false
   },
   "id": "2dccbbfe0a5e1d45"
  },
  {
   "cell_type": "code",
   "execution_count": 328,
   "outputs": [],
   "source": [
    "from torch.utils.data import Dataset\n",
    "import numpy as np\n",
    "import math\n",
    "\n",
    "class MyDataset(Dataset):\n",
    "    \"\"\"\n",
    "    A custom PyTorch dataset for loading data from a CSV file and preparing it for training or testing.\n",
    "\n",
    "    Args:\n",
    "        file_name (str): The path to the CSV file containing the dataset.\n",
    "        train_test_ratio (float, optional): The ratio of the dataset to be used for training (default is 0.9).\n",
    "        test (bool, optional): If True, the dataset is prepared for testing; otherwise, it's prepared for training (default is False).\n",
    "\n",
    "    Attributes:\n",
    "        x_data (torch.Tensor): The input data.\n",
    "        y_data (torch.Tensor): The target data.\n",
    "\n",
    "    Methods:\n",
    "        __len__(): Returns the number of samples in the dataset.\n",
    "        __getitem__(idx): Returns the input and target data for a specific index.\n",
    "    \"\"\"\n",
    "\n",
    "    def __init__(self, file_name, train_test_ratio=0.95, test=False):\n",
    "        \"\"\"\n",
    "        Initializes the MyDataset with data from a CSV file.\n",
    "\n",
    "        Args:\n",
    "            file_name (str): The path to the CSV file containing the dataset.\n",
    "            train_test_ratio (float, optional): The ratio of the dataset to be used for training (default is 0.9).\n",
    "            test (bool, optional): If True, the dataset is prepared for testing; otherwise, it's prepared for training (default is False).\n",
    "        \"\"\"\n",
    "        _df = pd.read_csv(file_name)\n",
    "\n",
    "        if test:\n",
    "            data_len = math.floor((1 - train_test_ratio) * len(_df.iloc[:, 0]))\n",
    "        else:\n",
    "            data_len = math.floor(train_test_ratio * len(_df.iloc[:, 0]))\n",
    "\n",
    "        x = _df.iloc[:data_len, :-2].values\n",
    "        y = _df.iloc[:data_len, -2:].values\n",
    "\n",
    "        self.x_data = torch.tensor(x, dtype=torch.float32)\n",
    "        self.y_data = torch.tensor(y, dtype=torch.float32)\n",
    "\n",
    "    def __len__(self):\n",
    "        return np.shape(self.y_data)[0]\n",
    "\n",
    "    def __getitem__(self, idx):\n",
    "        return self.x_data[idx], self.y_data[idx]"
   ],
   "metadata": {
    "collapsed": false,
    "ExecuteTime": {
     "end_time": "2023-10-20T20:04:27.222201400Z",
     "start_time": "2023-10-20T20:04:27.040356700Z"
    }
   },
   "id": "7464ea69ecd596bf"
  },
  {
   "cell_type": "markdown",
   "source": [
    "## 2. MyDataset class implementation"
   ],
   "metadata": {
    "collapsed": false
   },
   "id": "2c962857e018270b"
  },
  {
   "cell_type": "code",
   "execution_count": 329,
   "outputs": [],
   "source": [
    "# Create a training dataset from the input CSV file.\n",
    "train_dataset = MyDataset(input_file)\n",
    "\n",
    "# Create a testing dataset from the input CSV file.\n",
    "test_dataset = MyDataset(input_file, test=True)"
   ],
   "metadata": {
    "collapsed": false,
    "ExecuteTime": {
     "end_time": "2023-10-20T20:04:27.226202400Z",
     "start_time": "2023-10-20T20:04:27.043178300Z"
    }
   },
   "id": "c5000dbf6d77f99c"
  },
  {
   "cell_type": "markdown",
   "source": [
    "**Hyperparameters:**\n",
    "\n",
    "- Number of training epochs: `EPOCH = 10`\n",
    "- Batch size for mini-batch gradient descent: `BATCH_SIZE = 10`\n",
    "- Learning rate for the optimization algorithm (e.g., stochastic gradient descent): `LR = 0.001`\n"
   ],
   "metadata": {
    "collapsed": false
   },
   "id": "26cf6d81c9cc0f55"
  },
  {
   "cell_type": "code",
   "execution_count": 330,
   "outputs": [],
   "source": [
    "# Explanation:\n",
    "# - PyTorch uses random numbers in various operations, such as weight initialization, data shuffling, and more.\n",
    "# - By setting the random seed to a specific value (in this case, 1), we ensure that the same random numbers are generated every time we run the code.\n",
    "# - This is important for reproducibility, which means getting the same results each time you run the code.\n",
    "# - Reproducibility is crucial in machine learning and deep learning to validate and compare results.\n",
    "\n",
    "# Note: Setting the random seed to 1 is just an example. You can choose any integer value for reproducibility.\n",
    "torch.manual_seed(1)  # Reproducible\n",
    "\n",
    "# Number of training epochs\n",
    "EPOCH = 10\n",
    "\n",
    "# Batch size for mini-batch gradient descent\n",
    "BATCH_SIZE = 36\n",
    "\n",
    "# Learning rate for the optimization algorithm (e.g., stochastic gradient descent)\n",
    "LR = 0.001"
   ],
   "metadata": {
    "collapsed": false,
    "ExecuteTime": {
     "end_time": "2023-10-20T20:04:27.237205100Z",
     "start_time": "2023-10-20T20:04:27.051855200Z"
    }
   },
   "id": "afac10a2dc4547b5"
  },
  {
   "cell_type": "markdown",
   "source": [
    "**Data Loaders and Batch Information:**\n",
    "\n",
    "- Import the necessary DataLoader module from PyTorch to handle dataset loading.\n",
    "\n",
    "- Create a data loader for the training dataset with the following parameters:\n",
    "  - Batch size: `BATCH_SIZE`\n",
    "  - No shuffle.\n",
    "\n",
    "- Create a data loader for the test dataset with the same parameters as the training data loader.\n",
    "\n",
    "- To obtain a single batch of training data and labels, use the `next` function on an iterator created from `train_loader`.\n",
    "\n",
    "- Display the shape of the feature batch:\n",
    "  - `train_features.size()` returns the shape (dimensions) of the feature batch.\n",
    "\n",
    "- Display the shape of the label batch:\n",
    "  - `train_labels.size()` returns the shape (dimensions) of the label batch.\n"
   ],
   "metadata": {
    "collapsed": false
   },
   "id": "3d818ed21eab4807"
  },
  {
   "cell_type": "code",
   "execution_count": 331,
   "outputs": [
    {
     "name": "stdout",
     "output_type": "stream",
     "text": [
      "Feature batch shape: torch.Size([36, 6])\n",
      "Labels batch shape: torch.Size([36, 2])\n"
     ]
    }
   ],
   "source": [
    "from torch.utils.data import DataLoader\n",
    "\n",
    "# Create a data loader for the training dataset\n",
    "train_loader = DataLoader(train_dataset, batch_size=BATCH_SIZE, shuffle=False)\n",
    "\n",
    "# Create a data loader for the test dataset\n",
    "test_loader = DataLoader(test_dataset, batch_size=BATCH_SIZE, shuffle=False)\n",
    "\n",
    "# Obtain a single batch of training data and labels using the `train_loader`.\n",
    "# This is done by using the `next` function on an iterator created from `train_loader`.\n",
    "train_features, train_labels = next(iter(train_loader))\n",
    "\n",
    "# Print the shape of the feature batch.\n",
    "# `train_features.size()` returns the shape (dimensions) of the feature batch.\n",
    "print(f\"Feature batch shape: {train_features.size()}\")\n",
    "\n",
    "# Print the shape of the label batch.\n",
    "# `train_labels.size()` returns the shape (dimensions) of the label batch.\n",
    "print(f\"Labels batch shape: {train_labels.size()}\")"
   ],
   "metadata": {
    "collapsed": false,
    "ExecuteTime": {
     "end_time": "2023-10-20T20:04:27.242897900Z",
     "start_time": "2023-10-20T20:04:27.055839100Z"
    }
   },
   "id": "7ff0d3a2eadf153b"
  },
  {
   "cell_type": "markdown",
   "source": [
    "### Multiple Linear Regression Neural Network\n",
    "\n",
    "Defines a PyTorch neural network module for multiple linear regression. The neural network consists of three fully connected layers, and the docstring provides a detailed explanation of its structure and usage."
   ],
   "metadata": {
    "collapsed": false
   },
   "id": "62c824695773fbba"
  },
  {
   "cell_type": "code",
   "execution_count": 332,
   "outputs": [],
   "source": [
    "import torch\n",
    "from torch import nn\n",
    "\n",
    "class MLP(nn.Module):\n",
    "    def __init__(self):\n",
    "        super(MLP, self).__init__()\n",
    "        self.layers = nn.Sequential(\n",
    "            nn.Linear(6, 36),  # Input layer\n",
    "            nn.Tanh(),\n",
    "            nn.Linear(36, 9),  # Hidden layer\n",
    "            nn.Tanh(),\n",
    "            nn.Linear(9, 2),  # Output layer\n",
    "        )\n",
    "\n",
    "    def forward(self, x):\n",
    "        return self.layers(x)"
   ],
   "metadata": {
    "collapsed": false,
    "ExecuteTime": {
     "end_time": "2023-10-20T20:04:27.258898500Z",
     "start_time": "2023-10-20T20:04:27.060956400Z"
    }
   },
   "id": "5df4548818a46476"
  },
  {
   "cell_type": "markdown",
   "source": [
    "### Initialize the Multiple Linear Regression (MLR) Model\n",
    "\n",
    "An instance of the Multiple Linear Regression (MLR) model is created and its parameters are printed. The MLR model is designed for regression tasks, and in this instance, it is configured with 6 input features and is expected to produce 2 output values.\n"
   ],
   "metadata": {
    "collapsed": false
   },
   "id": "8bcf6998ef19e73"
  },
  {
   "cell_type": "code",
   "execution_count": 333,
   "outputs": [
    {
     "name": "stdout",
     "output_type": "stream",
     "text": [
      "The parameters:  [Parameter containing:\n",
      "tensor([[-0.0791,  0.1916, -0.3843,  0.2448, -0.0840,  0.2077],\n",
      "        [ 0.0568, -0.0500,  0.1132,  0.0201,  0.1491, -0.1591],\n",
      "        [-0.0298, -0.0368,  0.0592, -0.0016,  0.3569,  0.1270],\n",
      "        [-0.1520, -0.2466, -0.0684, -0.1761, -0.1308,  0.0195],\n",
      "        [ 0.2434,  0.2219, -0.3991,  0.2531,  0.1140,  0.3872],\n",
      "        [ 0.2695, -0.3720, -0.3882, -0.1969,  0.3585, -0.0680],\n",
      "        [ 0.1747, -0.1897,  0.4006, -0.1727,  0.3062,  0.0048],\n",
      "        [-0.2151,  0.2098, -0.2167,  0.1201, -0.1179, -0.0448],\n",
      "        [-0.3925, -0.1946,  0.2215, -0.0992,  0.4066,  0.3272],\n",
      "        [-0.0191, -0.2725,  0.2486,  0.1267, -0.2639,  0.2652],\n",
      "        [ 0.2478,  0.3621, -0.2288, -0.0672, -0.0079,  0.0596],\n",
      "        [-0.3098, -0.2897,  0.2221, -0.0957,  0.1994,  0.0233],\n",
      "        [ 0.1340,  0.0898,  0.1484,  0.2024, -0.3781,  0.2055],\n",
      "        [-0.2870, -0.3080,  0.0248, -0.0696,  0.2398, -0.2364],\n",
      "        [-0.3629,  0.2971, -0.0605,  0.2296,  0.1312, -0.3061],\n",
      "        [ 0.0820,  0.0981, -0.2733, -0.1937,  0.1392,  0.0731],\n",
      "        [-0.1737, -0.1236,  0.3739, -0.0755,  0.2302,  0.1768],\n",
      "        [-0.2639, -0.3472,  0.3919,  0.0213,  0.2798,  0.0846],\n",
      "        [ 0.1313,  0.3049,  0.3871, -0.2709,  0.0510,  0.3047],\n",
      "        [ 0.2957,  0.2536, -0.2955, -0.2940, -0.2469,  0.0513],\n",
      "        [ 0.4069, -0.2579,  0.2175, -0.2260, -0.3838, -0.0868],\n",
      "        [ 0.2352,  0.3790, -0.2535,  0.0886,  0.3523,  0.2705],\n",
      "        [ 0.2544,  0.2901,  0.2582,  0.1054, -0.2792, -0.3428],\n",
      "        [-0.1871, -0.0475, -0.2502,  0.1494,  0.1263, -0.0924],\n",
      "        [ 0.1569,  0.1319,  0.2493,  0.2749, -0.1383,  0.3989],\n",
      "        [-0.0472, -0.0140, -0.3853, -0.2628, -0.2385, -0.1746],\n",
      "        [ 0.2903, -0.1334, -0.3051,  0.1571,  0.1307,  0.2644],\n",
      "        [-0.2113,  0.0885, -0.1486, -0.0917, -0.3253, -0.1861],\n",
      "        [-0.1250,  0.1746,  0.0746,  0.1008,  0.4075,  0.3979],\n",
      "        [ 0.2784,  0.0130, -0.2824,  0.3191, -0.1021, -0.0330],\n",
      "        [-0.3517, -0.0806, -0.2633,  0.3751, -0.3529, -0.3182],\n",
      "        [-0.0139, -0.2207,  0.1461, -0.1571, -0.1917,  0.0231],\n",
      "        [ 0.2955, -0.2872,  0.1917,  0.2623,  0.3993, -0.2857],\n",
      "        [ 0.0989, -0.3019,  0.3485, -0.1584,  0.2459,  0.0122],\n",
      "        [-0.0318, -0.0130,  0.0694,  0.1924,  0.0655,  0.1245],\n",
      "        [-0.3672,  0.2974,  0.3559,  0.3375,  0.3018, -0.2946]],\n",
      "       requires_grad=True), Parameter containing:\n",
      "tensor([-0.1513,  0.3600, -0.3109,  0.3704, -0.3211, -0.2876,  0.1996, -0.2933,\n",
      "        -0.0935,  0.2970,  0.3234,  0.3861, -0.0828, -0.3173,  0.4020, -0.0870,\n",
      "        -0.1680,  0.0995, -0.2855,  0.2683,  0.2559, -0.3239, -0.3353, -0.0358,\n",
      "         0.1715, -0.0118, -0.2070,  0.0093, -0.3837, -0.2885, -0.2718,  0.3362,\n",
      "         0.3599, -0.1387,  0.0183,  0.1821], requires_grad=True), Parameter containing:\n",
      "tensor([[ 0.0200, -0.0835,  0.0961,  0.1025, -0.0097, -0.0205,  0.1515,  0.1457,\n",
      "         -0.0945,  0.1631,  0.0412, -0.1107,  0.0912, -0.1244,  0.1540, -0.1071,\n",
      "          0.0471,  0.0508,  0.0396,  0.1382, -0.0692, -0.0704, -0.1444, -0.0068,\n",
      "         -0.0790,  0.0067, -0.0342,  0.0553,  0.1442,  0.0492, -0.0537, -0.0818,\n",
      "         -0.1454,  0.1402, -0.0316,  0.0336],\n",
      "        [ 0.0062, -0.1062,  0.0939,  0.0934,  0.0084, -0.0947, -0.0708,  0.0023,\n",
      "         -0.0952, -0.0930, -0.0249, -0.0480,  0.0409, -0.0438, -0.0221, -0.0636,\n",
      "         -0.1523,  0.1454,  0.0318,  0.1490, -0.0269, -0.0419, -0.1567, -0.0633,\n",
      "          0.1093, -0.1632, -0.0583,  0.1015,  0.0961,  0.0615, -0.0330, -0.0126,\n",
      "         -0.0317, -0.0614,  0.0696, -0.0568],\n",
      "        [-0.0936,  0.0378, -0.1205, -0.0356,  0.0852,  0.0623,  0.1419, -0.1137,\n",
      "          0.0014, -0.0492, -0.0932, -0.0938,  0.0420,  0.0174, -0.0851, -0.1175,\n",
      "         -0.1381,  0.1633, -0.0284, -0.0385, -0.0613, -0.0834, -0.1524, -0.0978,\n",
      "          0.1019,  0.0365, -0.0588, -0.0630,  0.1065,  0.1201,  0.1606,  0.0486,\n",
      "          0.0805, -0.0134, -0.0974, -0.1633],\n",
      "        [ 0.1015, -0.0242,  0.0685,  0.0082, -0.1556, -0.0818,  0.0469, -0.0337,\n",
      "         -0.1609,  0.0584,  0.0064, -0.0536,  0.0673,  0.0352, -0.0615,  0.1497,\n",
      "          0.0836,  0.0209, -0.0320, -0.1412,  0.1287, -0.0430, -0.1077,  0.1069,\n",
      "          0.0592,  0.0412, -0.0330, -0.0520,  0.0283,  0.1290,  0.0239, -0.0788,\n",
      "          0.1656,  0.0036,  0.1318,  0.0406],\n",
      "        [ 0.1494,  0.0962, -0.0850,  0.1171,  0.0011, -0.1338, -0.0349, -0.1504,\n",
      "         -0.0864, -0.1181,  0.1140, -0.0350, -0.0288,  0.0799,  0.0678, -0.1100,\n",
      "          0.0614,  0.0708, -0.1325,  0.1449, -0.1014, -0.0652, -0.1373,  0.1523,\n",
      "          0.0317,  0.1403,  0.0109,  0.0906, -0.0532, -0.1330,  0.0268, -0.0149,\n",
      "         -0.0168, -0.0819,  0.0035,  0.0479],\n",
      "        [ 0.0601, -0.1343,  0.0805,  0.0171,  0.1150,  0.1178, -0.1313,  0.1601,\n",
      "         -0.1639,  0.0958,  0.0117,  0.0789, -0.0901,  0.1002, -0.0825, -0.1473,\n",
      "          0.0558,  0.0912,  0.1652, -0.0174,  0.1603,  0.1071, -0.0827, -0.1286,\n",
      "          0.0935, -0.0913,  0.0764, -0.1427,  0.1216,  0.0500, -0.0192,  0.0764,\n",
      "         -0.1187, -0.0364,  0.0016, -0.0963],\n",
      "        [-0.0426, -0.0719,  0.1588,  0.1416,  0.1437,  0.1362, -0.1596,  0.0558,\n",
      "          0.0614, -0.1222,  0.0676, -0.0904,  0.0265,  0.0552,  0.1438, -0.0874,\n",
      "         -0.1311,  0.1542,  0.0700,  0.0810,  0.0600, -0.0590,  0.1003, -0.1455,\n",
      "          0.0232,  0.0753,  0.1139, -0.0832, -0.1126,  0.0625, -0.1324, -0.1385,\n",
      "         -0.1499, -0.0808, -0.0318, -0.0987],\n",
      "        [-0.0705, -0.1476,  0.1024, -0.0382, -0.1052,  0.0434, -0.1246,  0.1167,\n",
      "          0.0958, -0.1638, -0.1308, -0.1099, -0.0902,  0.0208, -0.1648, -0.1236,\n",
      "          0.0761, -0.0546, -0.0663, -0.1379,  0.0676,  0.0118, -0.0644, -0.1021,\n",
      "          0.0354,  0.0453,  0.0740,  0.0495, -0.0254, -0.1290,  0.1061, -0.0014,\n",
      "         -0.1108,  0.1437,  0.0929, -0.1310],\n",
      "        [-0.0832, -0.0567, -0.0962,  0.0778, -0.1189,  0.1549, -0.0689,  0.0984,\n",
      "          0.0057, -0.0733,  0.1113, -0.1272, -0.0882,  0.0200,  0.1322, -0.0714,\n",
      "         -0.1015, -0.1064, -0.0735, -0.0576, -0.0388, -0.0948,  0.0521,  0.0014,\n",
      "         -0.1089, -0.0952,  0.0353, -0.0024,  0.1180, -0.0253, -0.1350, -0.1233,\n",
      "         -0.0489, -0.0369,  0.0190, -0.0374]], requires_grad=True), Parameter containing:\n",
      "tensor([ 0.0615, -0.0554,  0.1223,  0.0383, -0.0512,  0.1485,  0.0425, -0.1133,\n",
      "        -0.0928], requires_grad=True), Parameter containing:\n",
      "tensor([[ 0.2090,  0.1522,  0.2603, -0.0256,  0.2331,  0.1657,  0.1031, -0.0771,\n",
      "          0.3213],\n",
      "        [ 0.0675, -0.0860, -0.0047,  0.3277,  0.2239, -0.0247,  0.3268,  0.1464,\n",
      "         -0.1775]], requires_grad=True), Parameter containing:\n",
      "tensor([-0.3034,  0.1937], requires_grad=True)]\n"
     ]
    }
   ],
   "source": [
    "# Create an instance of the MultipleLinearRegression model with 6 input features and 2 output units.\n",
    "MLR_model = MLP()\n",
    "\n",
    "# Print the parameters of the MLR model.\n",
    "print(\"The parameters: \", list(MLR_model.parameters()))"
   ],
   "metadata": {
    "collapsed": false,
    "ExecuteTime": {
     "end_time": "2023-10-20T20:04:27.263900300Z",
     "start_time": "2023-10-20T20:04:27.065957700Z"
    }
   },
   "id": "655857979ef2f3ae"
  },
  {
   "cell_type": "markdown",
   "source": [
    "# Model Optimization and Loss Definition\n",
    "\n",
    "In this section, the model optimizer is selected, and the loss criterion for training the Multiple Linear Regression model is defined.\n",
    "\n",
    "## Model Optimizer\n",
    "We use the AdamW optimizer to update the model parameters during training. The learning rate (LR) determines the step size for parameter updates."
   ],
   "metadata": {
    "collapsed": false
   },
   "id": "9260b10bfb223ff5"
  },
  {
   "cell_type": "code",
   "execution_count": 334,
   "outputs": [],
   "source": [
    "optimizer = torch.optim.AdamW(MLR_model.parameters(), lr=LR)"
   ],
   "metadata": {
    "collapsed": false,
    "ExecuteTime": {
     "end_time": "2023-10-20T20:04:27.277903200Z",
     "start_time": "2023-10-20T20:04:27.076464400Z"
    }
   },
   "id": "14dae56105a05687"
  },
  {
   "cell_type": "code",
   "execution_count": 335,
   "outputs": [],
   "source": [
    "# Define the Mean Squared Error (MSE) loss criterion\n",
    "criterion = torch.nn.MSELoss()"
   ],
   "metadata": {
    "collapsed": false,
    "ExecuteTime": {
     "end_time": "2023-10-20T20:04:27.316912100Z",
     "start_time": "2023-10-20T20:04:27.078408800Z"
    }
   },
   "id": "48c1cfc3a08776fb"
  },
  {
   "cell_type": "markdown",
   "source": [
    "# Model Prediction Check (Before Training)\n",
    "\n",
    "In this section, we check the model's ability to make predictions before any training has occurred. This is often referred to as a \"sanity check\" to ensure the model is functional.\n",
    "\n",
    "## Model Prediction\n",
    "We provide a sample input tensor `x` to the Multiple Linear Regression (MLR) model and evaluate its prediction. Please note that at this stage, the model has not undergone any training.\n"
   ],
   "metadata": {
    "collapsed": false
   },
   "id": "564034c92c2bb88b"
  },
  {
   "cell_type": "code",
   "execution_count": 336,
   "outputs": [
    {
     "name": "stdout",
     "output_type": "stream",
     "text": [
      "tensor([-0.3207,  0.1681], grad_fn=<ViewBackward0>)\n"
     ]
    }
   ],
   "source": [
    "# Check the model gives data (NO TRAINING YET)\n",
    "x = torch.tensor([8, 6, 10, 1.0, 16, 100])\n",
    "y_pred = MLR_model(x)\n",
    "print(y_pred)"
   ],
   "metadata": {
    "collapsed": false,
    "ExecuteTime": {
     "end_time": "2023-10-20T20:04:27.317912300Z",
     "start_time": "2023-10-20T20:04:27.083478500Z"
    }
   },
   "id": "809ad0813ed69a1c"
  },
  {
   "cell_type": "markdown",
   "source": [
    "# Model Training Loop\n",
    "\n",
    "In this section, we define the training loop for the Multiple Linear Regression (MLR) model. The training process involves multiple epochs, where the model learns from the training data to optimize its parameters and reduce the loss."
   ],
   "metadata": {
    "collapsed": false
   },
   "id": "8855654381dd7061"
  },
  {
   "cell_type": "code",
   "execution_count": 337,
   "outputs": [],
   "source": [
    "t_losses = []\n",
    "for epoch in range(EPOCH):\n",
    "    for i, (inputs, targets) in enumerate(train_loader):\n",
    "        # Zero the gradients\n",
    "        optimizer.zero_grad()\n",
    "\n",
    "        # Forward pass\n",
    "        outputs = MLR_model(inputs)\n",
    "        loss = criterion(outputs, targets)\n",
    "        t_losses.append(loss.item())\n",
    "\n",
    "        # Backward pass and optimization\n",
    "        loss.backward()\n",
    "        optimizer.step()\n",
    "        # scheduler.step()\n",
    "\n",
    "        # Print training statistics\n",
    "        if (i + 1) % 10 == 0:\n",
    "            print(f'Epoch [{epoch + 1}/{EPOCH}], Step [{i + 1}/{len(train_loader)}], Loss: {loss.item():.4f}')\n"
   ],
   "metadata": {
    "collapsed": false,
    "ExecuteTime": {
     "end_time": "2023-10-20T20:04:27.343918700Z",
     "start_time": "2023-10-20T20:04:27.090419Z"
    }
   },
   "id": "44f33a3d2911e3ba"
  },
  {
   "cell_type": "markdown",
   "source": [
    "# Model Evaluation on Test Data\n",
    "\n",
    "In this section, we evaluate the trained MLR model on the test dataset and calculate the test loss to assess the model's performance."
   ],
   "metadata": {
    "collapsed": false
   },
   "id": "a460d7d9d2ade25e"
  },
  {
   "cell_type": "code",
   "execution_count": 338,
   "outputs": [
    {
     "name": "stdout",
     "output_type": "stream",
     "text": [
      "Test Loss: 0.4722\n"
     ]
    }
   ],
   "source": [
    "# Evaluate the model on the test data\n",
    "with torch.no_grad():\n",
    "    total_loss = 0\n",
    "    \n",
    "    # Iterate over batches in the test loader\n",
    "    for inputs, targets in test_loader:\n",
    "        outputs = MLR_model(inputs)  # Forward pass to get model predictions\n",
    "        loss = criterion(outputs, targets)  # Calculate the loss\n",
    "        \n",
    "        total_loss += loss.item()  # Accumulate the loss for all batches\n",
    "    \n",
    "    mean_loss = total_loss / len(test_loader)  # Calculate the mean loss over all batches\n",
    "    print(f'Test Loss: {mean_loss:.4f}')"
   ],
   "metadata": {
    "collapsed": false,
    "ExecuteTime": {
     "end_time": "2023-10-20T20:04:27.343918700Z",
     "start_time": "2023-10-20T20:04:27.137944100Z"
    }
   },
   "id": "529056adbdc3cb28"
  },
  {
   "cell_type": "markdown",
   "source": [
    "# Plotting Training Losses\n",
    "\n",
    "In this section, we visualize the training progress by plotting the training losses. The loss values are plotted against the number of iterations, providing insight into the model's convergence during training."
   ],
   "metadata": {
    "collapsed": false
   },
   "id": "aecccf978b37a589"
  },
  {
   "cell_type": "code",
   "execution_count": 339,
   "outputs": [
    {
     "data": {
      "text/plain": "<Figure size 640x480 with 1 Axes>",
      "image/png": "[encoded data removed]"
     },
     "metadata": {},
     "output_type": "display_data"
    }
   ],
   "source": [
    "import matplotlib.pyplot as plt\n",
    "\n",
    "# Plot the training losses\n",
    "plt.plot(t_losses)\n",
    "plt.xlabel(\"No. of Iterations\")\n",
    "plt.ylabel(\"Total Loss\")\n",
    "plt.show()"
   ],
   "metadata": {
    "collapsed": false,
    "ExecuteTime": {
     "end_time": "2023-10-20T20:04:27.345919600Z",
     "start_time": "2023-10-20T20:04:27.142183800Z"
    }
   },
   "id": "77e25dc5823a50df"
  },
  {
   "cell_type": "markdown",
   "source": [
    "# Testing the Model\n",
    "\n",
    "In this section, we evaluate the trained model by testing it on a set of case histories. The case histories include parameters and known outcomes for different locations.\n",
    "\n",
    "## Case Histories Parameters\n",
    "We define a list of case histories parameters, where each sub-list represents a location's specific parameters:\n",
    "\n",
    "```python\n",
    "cases = [\n",
    "    [2.4, 4.8, 15, 1, 19, 12],   # Fornebu, Oslo\n",
    "    [5, 5, 0, 1, 19, 16],       # Feria, Oslo\n",
    "    [11.3, 16, 0, 1, 19, 35]    # Chicago, USA\n",
    "]\n"
   ],
   "metadata": {
    "collapsed": false
   },
   "id": "88ea3ab88445cb6e"
  },
  {
   "cell_type": "code",
   "execution_count": 340,
   "outputs": [
    {
     "name": "stdout",
     "output_type": "stream",
     "text": [
      "Avg. FoS for case_0 is 0.2321530133485794\n",
      "Avg. FoS for case_1 is 0.33812350034713745\n",
      "Avg. FoS for case_2 is 0.5297319889068604\n"
     ]
    }
   ],
   "source": [
    "# Testing the model\n",
    "\n",
    "# Case histories parameters\n",
    "# Input is on the form [B (m), H (m), q (kPa), Rint, Gamma (kN/cu.m), Su (kPa)]\n",
    "\n",
    "cases = [\n",
    "    [2.4, 4.8, 15, 1, 19, 12],  # Fornebu, Oslo\n",
    "    [5, 5, 0, 1, 19, 16],      # Feria, Oslo\n",
    "    [11.3, 16, 0, 1, 19, 35]   # Chicago, USA\n",
    "]\n",
    "\n",
    "\n",
    "# Case histories outcomes\n",
    "cases_op = [\n",
    "    [1.03, 1.11, 0.97, 1.05],  # Fornebu, Oslo\n",
    "    [1.02, 1.26, 1.03, 1.1],  # Feria, Oslo\n",
    "    [1, 1.11, 0.95, 1]        # Chicago, USA\n",
    "]\n",
    "\n",
    "for i, each_case in enumerate(cases):\n",
    "    y_pred_MLR = MLR_model(torch.Tensor(each_case))\n",
    "    val = float(np.average(y_pred_MLR.detach()))\n",
    "    cases_op[i].append(val)\n",
    "    print(f'Avg. FoS for case_{i} is {val}')"
   ],
   "metadata": {
    "collapsed": false,
    "ExecuteTime": {
     "end_time": "2023-10-20T20:04:27.495952800Z",
     "start_time": "2023-10-20T20:04:27.240206100Z"
    }
   },
   "id": "79f485e3d16d0486"
  },
  {
   "cell_type": "code",
   "execution_count": 341,
   "outputs": [
    {
     "data": {
      "text/plain": "<Figure size 640x550 with 1 Axes>",
      "image/png": "[encoded data removed]"
     },
     "metadata": {},
     "output_type": "display_data"
    }
   ],
   "source": [
    "import numpy as np\n",
    "import matplotlib.pyplot as plt\n",
    "\n",
    "species = ('Fornebu, Oslo', 'Feria, Oslo', 'Chicago, USA')\n",
    "\n",
    "means = {\n",
    "    \"Eide's (1956)\": [],\n",
    "    \"Terzaghi (1943)\": [],\n",
    "    \"Simplified UBLA\": [],\n",
    "    \"Modified Terzaghi\": [],\n",
    "    \"FELA-FNN\": []\n",
    "}\n",
    "\n",
    "# Assuming you have 'cases_op' defined elsewhere\n",
    "\n",
    "for i, items in enumerate(means.items()):\n",
    "    means[items[0]] += ([x[i] for x in cases_op])\n",
    "\n",
    "x = np.arange(len(species))  # the label locations\n",
    "width = 0.1  # the width of the bars\n",
    "multiplier = 0\n",
    "\n",
    "fig, ax = plt.subplots(figsize=(6.4, 5.5))\n",
    "\n",
    "for attribute, measurement in means.items():\n",
    "    offset = width * multiplier\n",
    "    rects = ax.bar(x + offset, measurement, width, label=attribute)\n",
    "    multiplier += 1\n",
    "\n",
    "# Add some text for labels, title, and custom x-axis tick labels, etc.\n",
    "ax.set_ylabel('FoS')\n",
    "\n",
    "# Set y-axis limits\n",
    "ax.set_ylim(0.5,1.5)\n",
    "\n",
    "# Adjust the x-axis tick positions and labels\n",
    "new_x = x + width * (len(means) - 1) / 2\n",
    "ax.set_xticks(new_x)\n",
    "ax.set_xticklabels(species, rotation=0, ha='center', fontsize=8, fontweight='bold')  # Adjust 'ha' to 'center'\n",
    "\n",
    "# Adjust the legend location to 'upper right' and specify the number of columns (ncols)\n",
    "legend = ax.legend(loc='upper right', ncols=1)\n",
    "\n",
    "# Set the transparency of the legend background to 50%\n",
    "legend.get_frame().set_alpha(0.5)\n",
    "\n",
    "ax.axhline(y=1, color='red', linestyle='--', label='Y = 1')\n",
    "\n",
    "# Set the chart title with a customizable font size\n",
    "chart_title = \"Comparison between the FoS predictions of different classical approaches and the FELA-FNN\"\n",
    "title_fontsize = 8  # You can adjust the font size as needed\n",
    "ax.set_title(chart_title, fontsize=title_fontsize, fontweight='bold')  # Make the title bold\n",
    "\n",
    "# Increase figure quality by adjusting the DPI\n",
    "plt.savefig('your_figure_600_2.png', dpi=600)  # You can adjust the filename and DPI as needed\n",
    "\n",
    "plt.show()"
   ],
   "metadata": {
    "collapsed": false,
    "ExecuteTime": {
     "end_time": "2023-10-20T20:04:28.152834900Z",
     "start_time": "2023-10-20T20:04:27.248896700Z"
    }
   },
   "id": "7efee78296036e22"
  },
  {
   "cell_type": "markdown",
   "source": [
    "## Plotting Su vs. FoS"
   ],
   "metadata": {
    "collapsed": false
   },
   "id": "bbfd2521e2dbcf56"
  },
  {
   "cell_type": "code",
   "execution_count": 342,
   "outputs": [
    {
     "ename": "TypeError",
     "evalue": "min() received an invalid combination of arguments - got (axis=NoneType, out=NoneType, ), but expected one of:\n * ()\n * (Tensor other)\n * (int dim, bool keepdim)\n      didn't match because some of the keywords were incorrect: axis, out\n * (name dim, bool keepdim)\n      didn't match because some of the keywords were incorrect: axis, out\n",
     "output_type": "error",
     "traceback": [
      "\u001B[1;31m---------------------------------------------------------------------------\u001B[0m",
      "\u001B[1;31mTypeError\u001B[0m                                 Traceback (most recent call last)",
      "Cell \u001B[1;32mIn[342], line 29\u001B[0m\n\u001B[0;32m     27\u001B[0m \u001B[38;5;28;01mfor\u001B[39;00m each_case \u001B[38;5;129;01min\u001B[39;00m cases:\n\u001B[0;32m     28\u001B[0m     y_pred_MLR \u001B[38;5;241m=\u001B[39m MLR_model(torch\u001B[38;5;241m.\u001B[39mTensor(each_case))    \n\u001B[1;32m---> 29\u001B[0m     LB_FoS \u001B[38;5;241m=\u001B[39m \u001B[38;5;28mfloat\u001B[39m(\u001B[43mnp\u001B[49m\u001B[38;5;241;43m.\u001B[39;49m\u001B[43mmin\u001B[49m\u001B[43m(\u001B[49m\u001B[43my_pred_MLR\u001B[49m\u001B[38;5;241;43m.\u001B[39;49m\u001B[43mdetach\u001B[49m\u001B[43m(\u001B[49m\u001B[43m)\u001B[49m\u001B[43m)\u001B[49m)\n\u001B[0;32m     30\u001B[0m     \u001B[38;5;28mprint\u001B[39m(\u001B[38;5;124m'\u001B[39m\u001B[38;5;124mLB FoS: \u001B[39m\u001B[38;5;124m'\u001B[39m, LB_FoS)\n\u001B[0;32m     31\u001B[0m     UB_FoS \u001B[38;5;241m=\u001B[39m \u001B[38;5;28mfloat\u001B[39m(np\u001B[38;5;241m.\u001B[39mmin(y_pred_MLR\u001B[38;5;241m.\u001B[39mdetach()))\n",
      "File \u001B[1;32m~\\PycharmProjects\\MScWork\\venv\\Lib\\site-packages\\numpy\\core\\fromnumeric.py:2953\u001B[0m, in \u001B[0;36mmin\u001B[1;34m(a, axis, out, keepdims, initial, where)\u001B[0m\n\u001B[0;32m   2836\u001B[0m \u001B[38;5;129m@array_function_dispatch\u001B[39m(_min_dispatcher)\n\u001B[0;32m   2837\u001B[0m \u001B[38;5;28;01mdef\u001B[39;00m \u001B[38;5;21mmin\u001B[39m(a, axis\u001B[38;5;241m=\u001B[39m\u001B[38;5;28;01mNone\u001B[39;00m, out\u001B[38;5;241m=\u001B[39m\u001B[38;5;28;01mNone\u001B[39;00m, keepdims\u001B[38;5;241m=\u001B[39mnp\u001B[38;5;241m.\u001B[39m_NoValue, initial\u001B[38;5;241m=\u001B[39mnp\u001B[38;5;241m.\u001B[39m_NoValue,\n\u001B[0;32m   2838\u001B[0m         where\u001B[38;5;241m=\u001B[39mnp\u001B[38;5;241m.\u001B[39m_NoValue):\n\u001B[0;32m   2839\u001B[0m \u001B[38;5;250m    \u001B[39m\u001B[38;5;124;03m\"\"\"\u001B[39;00m\n\u001B[0;32m   2840\u001B[0m \u001B[38;5;124;03m    Return the minimum of an array or minimum along an axis.\u001B[39;00m\n\u001B[0;32m   2841\u001B[0m \n\u001B[1;32m   (...)\u001B[0m\n\u001B[0;32m   2951\u001B[0m \u001B[38;5;124;03m    6\u001B[39;00m\n\u001B[0;32m   2952\u001B[0m \u001B[38;5;124;03m    \"\"\"\u001B[39;00m\n\u001B[1;32m-> 2953\u001B[0m     \u001B[38;5;28;01mreturn\u001B[39;00m \u001B[43m_wrapreduction\u001B[49m\u001B[43m(\u001B[49m\u001B[43ma\u001B[49m\u001B[43m,\u001B[49m\u001B[43m \u001B[49m\u001B[43mnp\u001B[49m\u001B[38;5;241;43m.\u001B[39;49m\u001B[43mminimum\u001B[49m\u001B[43m,\u001B[49m\u001B[43m \u001B[49m\u001B[38;5;124;43m'\u001B[39;49m\u001B[38;5;124;43mmin\u001B[39;49m\u001B[38;5;124;43m'\u001B[39;49m\u001B[43m,\u001B[49m\u001B[43m \u001B[49m\u001B[43maxis\u001B[49m\u001B[43m,\u001B[49m\u001B[43m \u001B[49m\u001B[38;5;28;43;01mNone\u001B[39;49;00m\u001B[43m,\u001B[49m\u001B[43m \u001B[49m\u001B[43mout\u001B[49m\u001B[43m,\u001B[49m\n\u001B[0;32m   2954\u001B[0m \u001B[43m                          \u001B[49m\u001B[43mkeepdims\u001B[49m\u001B[38;5;241;43m=\u001B[39;49m\u001B[43mkeepdims\u001B[49m\u001B[43m,\u001B[49m\u001B[43m \u001B[49m\u001B[43minitial\u001B[49m\u001B[38;5;241;43m=\u001B[39;49m\u001B[43minitial\u001B[49m\u001B[43m,\u001B[49m\u001B[43m \u001B[49m\u001B[43mwhere\u001B[49m\u001B[38;5;241;43m=\u001B[39;49m\u001B[43mwhere\u001B[49m\u001B[43m)\u001B[49m\n",
      "File \u001B[1;32m~\\PycharmProjects\\MScWork\\venv\\Lib\\site-packages\\numpy\\core\\fromnumeric.py:86\u001B[0m, in \u001B[0;36m_wrapreduction\u001B[1;34m(obj, ufunc, method, axis, dtype, out, **kwargs)\u001B[0m\n\u001B[0;32m     84\u001B[0m             \u001B[38;5;28;01mreturn\u001B[39;00m reduction(axis\u001B[38;5;241m=\u001B[39maxis, dtype\u001B[38;5;241m=\u001B[39mdtype, out\u001B[38;5;241m=\u001B[39mout, \u001B[38;5;241m*\u001B[39m\u001B[38;5;241m*\u001B[39mpasskwargs)\n\u001B[0;32m     85\u001B[0m         \u001B[38;5;28;01melse\u001B[39;00m:\n\u001B[1;32m---> 86\u001B[0m             \u001B[38;5;28;01mreturn\u001B[39;00m \u001B[43mreduction\u001B[49m\u001B[43m(\u001B[49m\u001B[43maxis\u001B[49m\u001B[38;5;241;43m=\u001B[39;49m\u001B[43maxis\u001B[49m\u001B[43m,\u001B[49m\u001B[43m \u001B[49m\u001B[43mout\u001B[49m\u001B[38;5;241;43m=\u001B[39;49m\u001B[43mout\u001B[49m\u001B[43m,\u001B[49m\u001B[43m \u001B[49m\u001B[38;5;241;43m*\u001B[39;49m\u001B[38;5;241;43m*\u001B[39;49m\u001B[43mpasskwargs\u001B[49m\u001B[43m)\u001B[49m\n\u001B[0;32m     88\u001B[0m \u001B[38;5;28;01mreturn\u001B[39;00m ufunc\u001B[38;5;241m.\u001B[39mreduce(obj, axis, dtype, out, \u001B[38;5;241m*\u001B[39m\u001B[38;5;241m*\u001B[39mpasskwargs)\n",
      "\u001B[1;31mTypeError\u001B[0m: min() received an invalid combination of arguments - got (axis=NoneType, out=NoneType, ), but expected one of:\n * ()\n * (Tensor other)\n * (int dim, bool keepdim)\n      didn't match because some of the keywords were incorrect: axis, out\n * (name dim, bool keepdim)\n      didn't match because some of the keywords were incorrect: axis, out\n"
     ]
    }
   ],
   "source": [
    "''' \n",
    "    B:      Excavation width (m)\n",
    "    H:      Excavation height (m)\n",
    "    q:      Uniform surcharge at GS (kPa)\n",
    "    Rint:   Interface strength reduction factor\n",
    "    Gamma:  Soil unit weight (kN/cu.m)\n",
    "    Su:     Undrained shear strength (kPa)\n",
    "    \n",
    "case_input = [B (m), H (m), q (kPa), Rint, Gamma (kN/cu.m), Su (kPa)]\n",
    "y_pred_MLR = MLR_model(torch.Tensor(each_case))\n",
    "LB_FoS = float(np.min(y_pred_MLR.detach()))\n",
    "UB_FoS = float(np.max(y_pred_MLR.detach()))\n",
    "\n",
    "'''\n",
    "no_of_curve_points = 50\n",
    "B = 5\n",
    "H = 10\n",
    "q = 20\n",
    "Rint = 1\n",
    "Gamma = 19\n",
    "su = range(0, no_of_curve_points, 1)  # Changed the step size to 1\n",
    "\n",
    "cases = []\n",
    "for i in su:\n",
    "    cases.append([B, H, q, Rint, Gamma, i])\n",
    "\n",
    "for each_case in cases:\n",
    "    y_pred_MLR = MLR_model(torch.Tensor(each_case))    \n",
    "    LB_FoS = float(np.min(y_pred_MLR.detach()))\n",
    "    print('LB FoS: ', LB_FoS)\n",
    "    UB_FoS = float(np.min(y_pred_MLR.detach()))\n",
    "    print('UB FoS: ',UB_FoS)\n",
    "    Avg_FoS = float(np.average(y_pred_MLR.detach()))\n",
    "    print(Avg_FoS)\n",
    "    "
   ],
   "metadata": {
    "collapsed": false,
    "ExecuteTime": {
     "end_time": "2023-10-20T20:04:28.215849100Z",
     "start_time": "2023-10-20T20:04:28.153835300Z"
    }
   },
   "id": "947e449f652c01ee"
  },
  {
   "cell_type": "code",
   "execution_count": null,
   "outputs": [],
   "source": [
    "#cases\n",
    "print('Nahh')"
   ],
   "metadata": {
    "collapsed": false,
    "ExecuteTime": {
     "start_time": "2023-10-20T20:04:28.177841100Z"
    }
   },
   "id": "abe438dbf0995847"
  },
  {
   "cell_type": "code",
   "execution_count": null,
   "outputs": [],
   "source": [
    "''' \n",
    "    B:      Excavation width (m)\n",
    "    H:      Excavation height (m)\n",
    "    q:      Uniform surcharge at GS (kPa)\n",
    "    Rint:   Interface strength reduction factor\n",
    "    Gamma:  Soil unit weight (kN/cu.m)\n",
    "    Su:     Undrained shear strength (kPa)\n",
    "    \n",
    "case_input = [B (m), H (m), q (kPa), Rint, Gamma (kN/cu.m), Su (kPa)]\n",
    "'''\n",
    "\n",
    "no_of_curve_points = 50\n",
    "B = 5\n",
    "H = 10\n",
    "q = 20\n",
    "Rint = 1\n",
    "Gamma = 19\n",
    "su = range(0, no_of_curve_points, 1)  # Changed the step size to 1\n",
    "\n",
    "cases = []\n",
    "for i in su:\n",
    "    cases.append([B, H, q, Rint, Gamma, i])\n",
    "\n",
    "for each_case in cases:\n",
    "    y_pred_MLR = MLR_model(torch.Tensor(each_case))    \n",
    "    print(float(min(y_pred_MLR.detach())))\n",
    "    Avg_FoS = float(np.average(y_pred_MLR.detach()))\n",
    "    print('Avg FoS: ', Avg_FoS)  # Print the average factor of safety"
   ],
   "metadata": {
    "collapsed": false,
    "ExecuteTime": {
     "start_time": "2023-10-20T20:04:28.179840900Z"
    }
   },
   "id": "a007754b206a1883"
  },
  {
   "cell_type": "code",
   "execution_count": null,
   "outputs": [],
   "source": [],
   "metadata": {
    "collapsed": false,
    "ExecuteTime": {
     "start_time": "2023-10-20T20:04:28.180842100Z"
    }
   },
   "id": "ddfc08335a36031d"
  }
 ],
 "metadata": {
  "kernelspec": {
   "display_name": "Python 3",
   "language": "python",
   "name": "python3"
  },
  "language_info": {
   "codemirror_mode": {
    "name": "ipython",
    "version": 2
   },
   "file_extension": ".py",
   "mimetype": "text/x-python",
   "name": "python",
   "nbconvert_exporter": "python",
   "pygments_lexer": "ipython2",
   "version": "2.7.6"
  }
 },
 "nbformat": 4,
 "nbformat_minor": 5
}
